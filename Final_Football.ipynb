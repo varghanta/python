{
 "cells": [
  {
   "cell_type": "markdown",
   "metadata": {},
   "source": [
    "# EXTENDED FOOTBALL  (SOCCER) STATS\n"
   ]
  },
  {
   "cell_type": "markdown",
   "metadata": {},
   "source": [
    "## Dataset Description"
   ]
  },
  {
   "cell_type": "markdown",
   "metadata": {},
   "source": [
    "#### Data set info:\n",
    "The data set is from Kaggle.com. The data was derived from web scraping every game data and summarizing it into the data file to be able to represent it as on the original source."
   ]
  },
  {
   "cell_type": "markdown",
   "metadata": {},
   "source": [
    "#### Number of rows :\n",
    "570"
   ]
  },
  {
   "cell_type": "markdown",
   "metadata": {},
   "source": [
    "#### Parameters:\n",
    "Positon, Team, Number of matches played, Wins, Draws, Goals Scored, Goals Missed, Points\n"
   ]
  },
  {
   "cell_type": "markdown",
   "metadata": {},
   "source": [
    "#### Target:\n",
    "See how the actual vs expected points affect different parts of data (Xpts_Diff)\n",
    "Especially in a sport such as soccer. "
   ]
  },
  {
   "cell_type": "markdown",
   "metadata": {},
   "source": [
    "First I am going to read in the data so I can describe it. "
   ]
  },
  {
   "cell_type": "code",
   "execution_count": 287,
   "metadata": {},
   "outputs": [],
   "source": [
    "import numpy as np \n",
    "import pandas as pd \n",
    "import seaborn as sns \n",
    "import matplotlib.pyplot as plt \n",
    "from scipy.stats import norm \n",
    "fb_df = pd.read_csv (\"file:///Users/Varsha/Downloads/extended-football-stats-for-european-leagues-xg.zip\")"
   ]
  },
  {
   "cell_type": "code",
   "execution_count": 288,
   "metadata": {},
   "outputs": [
    {
     "data": {
      "text/html": [
       "<div>\n",
       "<style scoped>\n",
       "    .dataframe tbody tr th:only-of-type {\n",
       "        vertical-align: middle;\n",
       "    }\n",
       "\n",
       "    .dataframe tbody tr th {\n",
       "        vertical-align: top;\n",
       "    }\n",
       "\n",
       "    .dataframe thead th {\n",
       "        text-align: right;\n",
       "    }\n",
       "</style>\n",
       "<table border=\"1\" class=\"dataframe\">\n",
       "  <thead>\n",
       "    <tr style=\"text-align: right;\">\n",
       "      <th></th>\n",
       "      <th>Unnamed: 1</th>\n",
       "      <th>position</th>\n",
       "      <th>matches</th>\n",
       "      <th>wins</th>\n",
       "      <th>draws</th>\n",
       "      <th>loses</th>\n",
       "      <th>scored</th>\n",
       "      <th>missed</th>\n",
       "      <th>pts</th>\n",
       "      <th>xG</th>\n",
       "      <th>...</th>\n",
       "      <th>xGA</th>\n",
       "      <th>xGA_diff</th>\n",
       "      <th>npxGA</th>\n",
       "      <th>npxGD</th>\n",
       "      <th>ppda_coef</th>\n",
       "      <th>oppda_coef</th>\n",
       "      <th>deep</th>\n",
       "      <th>deep_allowed</th>\n",
       "      <th>xpts</th>\n",
       "      <th>xpts_diff</th>\n",
       "    </tr>\n",
       "  </thead>\n",
       "  <tbody>\n",
       "    <tr>\n",
       "      <th>count</th>\n",
       "      <td>570.000000</td>\n",
       "      <td>570.000000</td>\n",
       "      <td>570.000000</td>\n",
       "      <td>570.000000</td>\n",
       "      <td>570.000000</td>\n",
       "      <td>570.000000</td>\n",
       "      <td>570.000000</td>\n",
       "      <td>570.000000</td>\n",
       "      <td>570.000000</td>\n",
       "      <td>570.000000</td>\n",
       "      <td>...</td>\n",
       "      <td>570.000000</td>\n",
       "      <td>570.000000</td>\n",
       "      <td>570.000000</td>\n",
       "      <td>5.700000e+02</td>\n",
       "      <td>570.000000</td>\n",
       "      <td>570.000000</td>\n",
       "      <td>570.000000</td>\n",
       "      <td>570.000000</td>\n",
       "      <td>570.000000</td>\n",
       "      <td>570.000000</td>\n",
       "    </tr>\n",
       "    <tr>\n",
       "      <th>mean</th>\n",
       "      <td>2016.000000</td>\n",
       "      <td>10.061404</td>\n",
       "      <td>36.245614</td>\n",
       "      <td>13.531579</td>\n",
       "      <td>9.182456</td>\n",
       "      <td>13.531579</td>\n",
       "      <td>48.385965</td>\n",
       "      <td>48.385965</td>\n",
       "      <td>49.777193</td>\n",
       "      <td>46.957947</td>\n",
       "      <td>...</td>\n",
       "      <td>46.957947</td>\n",
       "      <td>-1.428018</td>\n",
       "      <td>42.881170</td>\n",
       "      <td>1.495879e-16</td>\n",
       "      <td>10.735848</td>\n",
       "      <td>10.735848</td>\n",
       "      <td>209.524561</td>\n",
       "      <td>209.524561</td>\n",
       "      <td>49.939568</td>\n",
       "      <td>0.162375</td>\n",
       "    </tr>\n",
       "    <tr>\n",
       "      <th>std</th>\n",
       "      <td>1.415456</td>\n",
       "      <td>5.580982</td>\n",
       "      <td>2.906152</td>\n",
       "      <td>5.935200</td>\n",
       "      <td>2.927064</td>\n",
       "      <td>5.540700</td>\n",
       "      <td>17.634599</td>\n",
       "      <td>13.844167</td>\n",
       "      <td>17.051184</td>\n",
       "      <td>14.464017</td>\n",
       "      <td>...</td>\n",
       "      <td>11.625214</td>\n",
       "      <td>6.672813</td>\n",
       "      <td>10.826301</td>\n",
       "      <td>1.935850e+01</td>\n",
       "      <td>2.480779</td>\n",
       "      <td>3.284070</td>\n",
       "      <td>84.037695</td>\n",
       "      <td>52.899483</td>\n",
       "      <td>13.540545</td>\n",
       "      <td>7.218713</td>\n",
       "    </tr>\n",
       "    <tr>\n",
       "      <th>min</th>\n",
       "      <td>2014.000000</td>\n",
       "      <td>1.000000</td>\n",
       "      <td>30.000000</td>\n",
       "      <td>2.000000</td>\n",
       "      <td>2.000000</td>\n",
       "      <td>1.000000</td>\n",
       "      <td>13.000000</td>\n",
       "      <td>15.000000</td>\n",
       "      <td>13.000000</td>\n",
       "      <td>15.064491</td>\n",
       "      <td>...</td>\n",
       "      <td>16.838674</td>\n",
       "      <td>-29.175087</td>\n",
       "      <td>16.084399</td>\n",
       "      <td>-4.220877e+01</td>\n",
       "      <td>5.683535</td>\n",
       "      <td>4.394458</td>\n",
       "      <td>76.000000</td>\n",
       "      <td>83.000000</td>\n",
       "      <td>17.907700</td>\n",
       "      <td>-24.531500</td>\n",
       "    </tr>\n",
       "    <tr>\n",
       "      <th>25%</th>\n",
       "      <td>2015.000000</td>\n",
       "      <td>5.000000</td>\n",
       "      <td>34.000000</td>\n",
       "      <td>9.000000</td>\n",
       "      <td>7.000000</td>\n",
       "      <td>10.000000</td>\n",
       "      <td>36.000000</td>\n",
       "      <td>39.000000</td>\n",
       "      <td>38.000000</td>\n",
       "      <td>37.294168</td>\n",
       "      <td>...</td>\n",
       "      <td>39.361073</td>\n",
       "      <td>-6.100234</td>\n",
       "      <td>35.789070</td>\n",
       "      <td>-1.320242e+01</td>\n",
       "      <td>9.008791</td>\n",
       "      <td>8.653570</td>\n",
       "      <td>153.000000</td>\n",
       "      <td>171.000000</td>\n",
       "      <td>40.426425</td>\n",
       "      <td>-4.480550</td>\n",
       "    </tr>\n",
       "    <tr>\n",
       "      <th>50%</th>\n",
       "      <td>2016.000000</td>\n",
       "      <td>10.000000</td>\n",
       "      <td>38.000000</td>\n",
       "      <td>12.000000</td>\n",
       "      <td>9.000000</td>\n",
       "      <td>14.000000</td>\n",
       "      <td>45.000000</td>\n",
       "      <td>49.000000</td>\n",
       "      <td>46.500000</td>\n",
       "      <td>44.600600</td>\n",
       "      <td>...</td>\n",
       "      <td>47.336579</td>\n",
       "      <td>-1.202018</td>\n",
       "      <td>43.117482</td>\n",
       "      <td>-3.202510e+00</td>\n",
       "      <td>10.408070</td>\n",
       "      <td>10.192134</td>\n",
       "      <td>187.000000</td>\n",
       "      <td>206.000000</td>\n",
       "      <td>47.411750</td>\n",
       "      <td>0.218650</td>\n",
       "    </tr>\n",
       "    <tr>\n",
       "      <th>75%</th>\n",
       "      <td>2017.000000</td>\n",
       "      <td>15.000000</td>\n",
       "      <td>38.000000</td>\n",
       "      <td>17.000000</td>\n",
       "      <td>11.000000</td>\n",
       "      <td>17.000000</td>\n",
       "      <td>56.000000</td>\n",
       "      <td>57.000000</td>\n",
       "      <td>60.000000</td>\n",
       "      <td>53.788473</td>\n",
       "      <td>...</td>\n",
       "      <td>54.619647</td>\n",
       "      <td>3.200394</td>\n",
       "      <td>50.214848</td>\n",
       "      <td>9.843395e+00</td>\n",
       "      <td>12.211141</td>\n",
       "      <td>11.971695</td>\n",
       "      <td>243.000000</td>\n",
       "      <td>246.000000</td>\n",
       "      <td>57.330075</td>\n",
       "      <td>4.802800</td>\n",
       "    </tr>\n",
       "    <tr>\n",
       "      <th>max</th>\n",
       "      <td>2018.000000</td>\n",
       "      <td>20.000000</td>\n",
       "      <td>38.000000</td>\n",
       "      <td>32.000000</td>\n",
       "      <td>18.000000</td>\n",
       "      <td>29.000000</td>\n",
       "      <td>118.000000</td>\n",
       "      <td>94.000000</td>\n",
       "      <td>100.000000</td>\n",
       "      <td>113.598270</td>\n",
       "      <td>...</td>\n",
       "      <td>78.863255</td>\n",
       "      <td>15.540152</td>\n",
       "      <td>72.013818</td>\n",
       "      <td>7.304931e+01</td>\n",
       "      <td>20.304275</td>\n",
       "      <td>30.468113</td>\n",
       "      <td>582.000000</td>\n",
       "      <td>364.000000</td>\n",
       "      <td>94.380000</td>\n",
       "      <td>23.047500</td>\n",
       "    </tr>\n",
       "  </tbody>\n",
       "</table>\n",
       "<p>8 rows × 22 columns</p>\n",
       "</div>"
      ],
      "text/plain": [
       "        Unnamed: 1    position     matches        wins       draws  \\\n",
       "count   570.000000  570.000000  570.000000  570.000000  570.000000   \n",
       "mean   2016.000000   10.061404   36.245614   13.531579    9.182456   \n",
       "std       1.415456    5.580982    2.906152    5.935200    2.927064   \n",
       "min    2014.000000    1.000000   30.000000    2.000000    2.000000   \n",
       "25%    2015.000000    5.000000   34.000000    9.000000    7.000000   \n",
       "50%    2016.000000   10.000000   38.000000   12.000000    9.000000   \n",
       "75%    2017.000000   15.000000   38.000000   17.000000   11.000000   \n",
       "max    2018.000000   20.000000   38.000000   32.000000   18.000000   \n",
       "\n",
       "            loses      scored      missed         pts          xG  ...  \\\n",
       "count  570.000000  570.000000  570.000000  570.000000  570.000000  ...   \n",
       "mean    13.531579   48.385965   48.385965   49.777193   46.957947  ...   \n",
       "std      5.540700   17.634599   13.844167   17.051184   14.464017  ...   \n",
       "min      1.000000   13.000000   15.000000   13.000000   15.064491  ...   \n",
       "25%     10.000000   36.000000   39.000000   38.000000   37.294168  ...   \n",
       "50%     14.000000   45.000000   49.000000   46.500000   44.600600  ...   \n",
       "75%     17.000000   56.000000   57.000000   60.000000   53.788473  ...   \n",
       "max     29.000000  118.000000   94.000000  100.000000  113.598270  ...   \n",
       "\n",
       "              xGA    xGA_diff       npxGA         npxGD   ppda_coef  \\\n",
       "count  570.000000  570.000000  570.000000  5.700000e+02  570.000000   \n",
       "mean    46.957947   -1.428018   42.881170  1.495879e-16   10.735848   \n",
       "std     11.625214    6.672813   10.826301  1.935850e+01    2.480779   \n",
       "min     16.838674  -29.175087   16.084399 -4.220877e+01    5.683535   \n",
       "25%     39.361073   -6.100234   35.789070 -1.320242e+01    9.008791   \n",
       "50%     47.336579   -1.202018   43.117482 -3.202510e+00   10.408070   \n",
       "75%     54.619647    3.200394   50.214848  9.843395e+00   12.211141   \n",
       "max     78.863255   15.540152   72.013818  7.304931e+01   20.304275   \n",
       "\n",
       "       oppda_coef        deep  deep_allowed        xpts   xpts_diff  \n",
       "count  570.000000  570.000000    570.000000  570.000000  570.000000  \n",
       "mean    10.735848  209.524561    209.524561   49.939568    0.162375  \n",
       "std      3.284070   84.037695     52.899483   13.540545    7.218713  \n",
       "min      4.394458   76.000000     83.000000   17.907700  -24.531500  \n",
       "25%      8.653570  153.000000    171.000000   40.426425   -4.480550  \n",
       "50%     10.192134  187.000000    206.000000   47.411750    0.218650  \n",
       "75%     11.971695  243.000000    246.000000   57.330075    4.802800  \n",
       "max     30.468113  582.000000    364.000000   94.380000   23.047500  \n",
       "\n",
       "[8 rows x 22 columns]"
      ]
     },
     "execution_count": 288,
     "metadata": {},
     "output_type": "execute_result"
    }
   ],
   "source": [
    "fb_df.describe()"
   ]
  },
  {
   "cell_type": "markdown",
   "metadata": {},
   "source": [
    "I first want to look at what each columns data type is:"
   ]
  },
  {
   "cell_type": "code",
   "execution_count": 289,
   "metadata": {},
   "outputs": [
    {
     "data": {
      "text/plain": [
       "Unnamed: 0       object\n",
       "Unnamed: 1        int64\n",
       "position          int64\n",
       "team             object\n",
       "matches           int64\n",
       "wins              int64\n",
       "draws             int64\n",
       "loses             int64\n",
       "scored            int64\n",
       "missed            int64\n",
       "pts               int64\n",
       "xG              float64\n",
       "xG_diff         float64\n",
       "npxG            float64\n",
       "xGA             float64\n",
       "xGA_diff        float64\n",
       "npxGA           float64\n",
       "npxGD           float64\n",
       "ppda_coef       float64\n",
       "oppda_coef      float64\n",
       "deep              int64\n",
       "deep_allowed      int64\n",
       "xpts            float64\n",
       "xpts_diff       float64\n",
       "dtype: object"
      ]
     },
     "execution_count": 289,
     "metadata": {},
     "output_type": "execute_result"
    }
   ],
   "source": [
    "fb_df.dtypes"
   ]
  },
  {
   "cell_type": "markdown",
   "metadata": {},
   "source": [
    "## Clean Dataset \n"
   ]
  },
  {
   "cell_type": "code",
   "execution_count": 290,
   "metadata": {},
   "outputs": [
    {
     "data": {
      "text/html": [
       "<div>\n",
       "<style scoped>\n",
       "    .dataframe tbody tr th:only-of-type {\n",
       "        vertical-align: middle;\n",
       "    }\n",
       "\n",
       "    .dataframe tbody tr th {\n",
       "        vertical-align: top;\n",
       "    }\n",
       "\n",
       "    .dataframe thead th {\n",
       "        text-align: right;\n",
       "    }\n",
       "</style>\n",
       "<table border=\"1\" class=\"dataframe\">\n",
       "  <thead>\n",
       "    <tr style=\"text-align: right;\">\n",
       "      <th></th>\n",
       "      <th>Unnamed: 0</th>\n",
       "      <th>Unnamed: 1</th>\n",
       "      <th>position</th>\n",
       "      <th>team</th>\n",
       "      <th>matches</th>\n",
       "      <th>wins</th>\n",
       "      <th>draws</th>\n",
       "      <th>loses</th>\n",
       "      <th>scored</th>\n",
       "      <th>missed</th>\n",
       "      <th>...</th>\n",
       "      <th>xGA</th>\n",
       "      <th>xGA_diff</th>\n",
       "      <th>npxGA</th>\n",
       "      <th>npxGD</th>\n",
       "      <th>ppda_coef</th>\n",
       "      <th>oppda_coef</th>\n",
       "      <th>deep</th>\n",
       "      <th>deep_allowed</th>\n",
       "      <th>xpts</th>\n",
       "      <th>xpts_diff</th>\n",
       "    </tr>\n",
       "  </thead>\n",
       "  <tbody>\n",
       "    <tr>\n",
       "      <th>0</th>\n",
       "      <td>Bundesliga</td>\n",
       "      <td>2014</td>\n",
       "      <td>1</td>\n",
       "      <td>Bayern Munich</td>\n",
       "      <td>34</td>\n",
       "      <td>25</td>\n",
       "      <td>4</td>\n",
       "      <td>5</td>\n",
       "      <td>80</td>\n",
       "      <td>18</td>\n",
       "      <td>...</td>\n",
       "      <td>21.938729</td>\n",
       "      <td>3.938729</td>\n",
       "      <td>20.423172</td>\n",
       "      <td>41.236085</td>\n",
       "      <td>5.761476</td>\n",
       "      <td>25.022717</td>\n",
       "      <td>388</td>\n",
       "      <td>83</td>\n",
       "      <td>73.6116</td>\n",
       "      <td>-5.3884</td>\n",
       "    </tr>\n",
       "    <tr>\n",
       "      <th>1</th>\n",
       "      <td>Bundesliga</td>\n",
       "      <td>2014</td>\n",
       "      <td>2</td>\n",
       "      <td>Wolfsburg</td>\n",
       "      <td>34</td>\n",
       "      <td>20</td>\n",
       "      <td>9</td>\n",
       "      <td>5</td>\n",
       "      <td>72</td>\n",
       "      <td>38</td>\n",
       "      <td>...</td>\n",
       "      <td>38.822021</td>\n",
       "      <td>0.822021</td>\n",
       "      <td>36.419255</td>\n",
       "      <td>18.897371</td>\n",
       "      <td>9.136319</td>\n",
       "      <td>10.289876</td>\n",
       "      <td>172</td>\n",
       "      <td>164</td>\n",
       "      <td>59.9509</td>\n",
       "      <td>-9.0491</td>\n",
       "    </tr>\n",
       "    <tr>\n",
       "      <th>2</th>\n",
       "      <td>Bundesliga</td>\n",
       "      <td>2014</td>\n",
       "      <td>3</td>\n",
       "      <td>Borussia M.Gladbach</td>\n",
       "      <td>34</td>\n",
       "      <td>19</td>\n",
       "      <td>9</td>\n",
       "      <td>6</td>\n",
       "      <td>53</td>\n",
       "      <td>26</td>\n",
       "      <td>...</td>\n",
       "      <td>36.343299</td>\n",
       "      <td>10.343299</td>\n",
       "      <td>33.312193</td>\n",
       "      <td>16.156039</td>\n",
       "      <td>12.751108</td>\n",
       "      <td>12.783803</td>\n",
       "      <td>221</td>\n",
       "      <td>198</td>\n",
       "      <td>57.0078</td>\n",
       "      <td>-8.9922</td>\n",
       "    </tr>\n",
       "    <tr>\n",
       "      <th>3</th>\n",
       "      <td>Bundesliga</td>\n",
       "      <td>2014</td>\n",
       "      <td>4</td>\n",
       "      <td>Bayer Leverkusen</td>\n",
       "      <td>34</td>\n",
       "      <td>17</td>\n",
       "      <td>10</td>\n",
       "      <td>7</td>\n",
       "      <td>62</td>\n",
       "      <td>37</td>\n",
       "      <td>...</td>\n",
       "      <td>34.720386</td>\n",
       "      <td>-2.279614</td>\n",
       "      <td>30.173724</td>\n",
       "      <td>18.224194</td>\n",
       "      <td>5.693289</td>\n",
       "      <td>7.347595</td>\n",
       "      <td>246</td>\n",
       "      <td>108</td>\n",
       "      <td>55.3396</td>\n",
       "      <td>-5.6604</td>\n",
       "    </tr>\n",
       "    <tr>\n",
       "      <th>4</th>\n",
       "      <td>Bundesliga</td>\n",
       "      <td>2014</td>\n",
       "      <td>5</td>\n",
       "      <td>Augsburg</td>\n",
       "      <td>34</td>\n",
       "      <td>15</td>\n",
       "      <td>4</td>\n",
       "      <td>15</td>\n",
       "      <td>43</td>\n",
       "      <td>43</td>\n",
       "      <td>...</td>\n",
       "      <td>46.659608</td>\n",
       "      <td>3.659608</td>\n",
       "      <td>43.628491</td>\n",
       "      <td>-5.908343</td>\n",
       "      <td>7.625900</td>\n",
       "      <td>10.402360</td>\n",
       "      <td>134</td>\n",
       "      <td>221</td>\n",
       "      <td>45.4960</td>\n",
       "      <td>-3.5040</td>\n",
       "    </tr>\n",
       "  </tbody>\n",
       "</table>\n",
       "<p>5 rows × 24 columns</p>\n",
       "</div>"
      ],
      "text/plain": [
       "   Unnamed: 0  Unnamed: 1  position                 team  matches  wins  \\\n",
       "0  Bundesliga        2014         1        Bayern Munich       34    25   \n",
       "1  Bundesliga        2014         2            Wolfsburg       34    20   \n",
       "2  Bundesliga        2014         3  Borussia M.Gladbach       34    19   \n",
       "3  Bundesliga        2014         4     Bayer Leverkusen       34    17   \n",
       "4  Bundesliga        2014         5             Augsburg       34    15   \n",
       "\n",
       "   draws  loses  scored  missed  ...        xGA   xGA_diff      npxGA  \\\n",
       "0      4      5      80      18  ...  21.938729   3.938729  20.423172   \n",
       "1      9      5      72      38  ...  38.822021   0.822021  36.419255   \n",
       "2      9      6      53      26  ...  36.343299  10.343299  33.312193   \n",
       "3     10      7      62      37  ...  34.720386  -2.279614  30.173724   \n",
       "4      4     15      43      43  ...  46.659608   3.659608  43.628491   \n",
       "\n",
       "       npxGD  ppda_coef  oppda_coef  deep  deep_allowed     xpts  xpts_diff  \n",
       "0  41.236085   5.761476   25.022717   388            83  73.6116    -5.3884  \n",
       "1  18.897371   9.136319   10.289876   172           164  59.9509    -9.0491  \n",
       "2  16.156039  12.751108   12.783803   221           198  57.0078    -8.9922  \n",
       "3  18.224194   5.693289    7.347595   246           108  55.3396    -5.6604  \n",
       "4  -5.908343   7.625900   10.402360   134           221  45.4960    -3.5040  \n",
       "\n",
       "[5 rows x 24 columns]"
      ]
     },
     "execution_count": 290,
     "metadata": {},
     "output_type": "execute_result"
    }
   ],
   "source": [
    "fb_df.head()"
   ]
  },
  {
   "cell_type": "markdown",
   "metadata": {},
   "source": [
    " I want to rename all the columns so this way it avoids any confusion with the spelling or spacing later on. The first two columns are incorrectly named so I will be renaming those, as well as the misspelling of the column \"Losses\" which is currently input as \"loses\"."
   ]
  },
  {
   "cell_type": "code",
   "execution_count": 291,
   "metadata": {},
   "outputs": [],
   "source": [
    "fb_df.columns = [\"League_Name\",\"Year_Started\",\"Position\",\"Team_Name\",\"Matches\",\"Wins\",\"Draws\",\n",
    "                 \"Losses\",\"Scored\",\"Missed\",\"Points\",\"Expected_Goals\",\"xG_diff\",\"npxG\",\"Expected_GoalsAgainst\",\n",
    "                 \"xGA_diff\",\"npxGA\",\"npxGD\",\"ppda_coef\",\"oppda_coef\",\"Deep\",\"Deep_Allowed\",\n",
    "                 \"Expected_Points\",\"Xpts_Diff\"]"
   ]
  },
  {
   "cell_type": "markdown",
   "metadata": {},
   "source": [
    "I want to examine the data for any nulls:"
   ]
  },
  {
   "cell_type": "code",
   "execution_count": 292,
   "metadata": {},
   "outputs": [
    {
     "data": {
      "text/plain": [
       "League_Name              0\n",
       "Year_Started             0\n",
       "Position                 0\n",
       "Team_Name                0\n",
       "Matches                  0\n",
       "Wins                     0\n",
       "Draws                    0\n",
       "Losses                   0\n",
       "Scored                   0\n",
       "Missed                   0\n",
       "Points                   0\n",
       "Expected_Goals           0\n",
       "xG_diff                  0\n",
       "npxG                     0\n",
       "Expected_GoalsAgainst    0\n",
       "xGA_diff                 0\n",
       "npxGA                    0\n",
       "npxGD                    0\n",
       "ppda_coef                0\n",
       "oppda_coef               0\n",
       "Deep                     0\n",
       "Deep_Allowed             0\n",
       "Expected_Points          0\n",
       "Xpts_Diff                0\n",
       "dtype: int64"
      ]
     },
     "execution_count": 292,
     "metadata": {},
     "output_type": "execute_result"
    }
   ],
   "source": [
    "fb_df.isnull().sum()"
   ]
  },
  {
   "cell_type": "markdown",
   "metadata": {},
   "source": [
    "Since there are no nulls, I will not have to clean the data."
   ]
  },
  {
   "cell_type": "code",
   "execution_count": 293,
   "metadata": {},
   "outputs": [
    {
     "data": {
      "text/html": [
       "<div>\n",
       "<style scoped>\n",
       "    .dataframe tbody tr th:only-of-type {\n",
       "        vertical-align: middle;\n",
       "    }\n",
       "\n",
       "    .dataframe tbody tr th {\n",
       "        vertical-align: top;\n",
       "    }\n",
       "\n",
       "    .dataframe thead th {\n",
       "        text-align: right;\n",
       "    }\n",
       "</style>\n",
       "<table border=\"1\" class=\"dataframe\">\n",
       "  <thead>\n",
       "    <tr style=\"text-align: right;\">\n",
       "      <th></th>\n",
       "      <th>League_Name</th>\n",
       "      <th>Year_Started</th>\n",
       "      <th>Position</th>\n",
       "      <th>Team_Name</th>\n",
       "      <th>Matches</th>\n",
       "      <th>Wins</th>\n",
       "      <th>Draws</th>\n",
       "      <th>Losses</th>\n",
       "      <th>Scored</th>\n",
       "      <th>Missed</th>\n",
       "      <th>...</th>\n",
       "      <th>Expected_GoalsAgainst</th>\n",
       "      <th>xGA_diff</th>\n",
       "      <th>npxGA</th>\n",
       "      <th>npxGD</th>\n",
       "      <th>ppda_coef</th>\n",
       "      <th>oppda_coef</th>\n",
       "      <th>Deep</th>\n",
       "      <th>Deep_Allowed</th>\n",
       "      <th>Expected_Points</th>\n",
       "      <th>Xpts_Diff</th>\n",
       "    </tr>\n",
       "  </thead>\n",
       "  <tbody>\n",
       "    <tr>\n",
       "      <th>0</th>\n",
       "      <td>Bundesliga</td>\n",
       "      <td>2014</td>\n",
       "      <td>1</td>\n",
       "      <td>Bayern Munich</td>\n",
       "      <td>34</td>\n",
       "      <td>25</td>\n",
       "      <td>4</td>\n",
       "      <td>5</td>\n",
       "      <td>80</td>\n",
       "      <td>18</td>\n",
       "      <td>...</td>\n",
       "      <td>21.938729</td>\n",
       "      <td>3.938729</td>\n",
       "      <td>20.423172</td>\n",
       "      <td>41.236085</td>\n",
       "      <td>5.761476</td>\n",
       "      <td>25.022717</td>\n",
       "      <td>388</td>\n",
       "      <td>83</td>\n",
       "      <td>73.6116</td>\n",
       "      <td>-5.3884</td>\n",
       "    </tr>\n",
       "    <tr>\n",
       "      <th>1</th>\n",
       "      <td>Bundesliga</td>\n",
       "      <td>2014</td>\n",
       "      <td>2</td>\n",
       "      <td>Wolfsburg</td>\n",
       "      <td>34</td>\n",
       "      <td>20</td>\n",
       "      <td>9</td>\n",
       "      <td>5</td>\n",
       "      <td>72</td>\n",
       "      <td>38</td>\n",
       "      <td>...</td>\n",
       "      <td>38.822021</td>\n",
       "      <td>0.822021</td>\n",
       "      <td>36.419255</td>\n",
       "      <td>18.897371</td>\n",
       "      <td>9.136319</td>\n",
       "      <td>10.289876</td>\n",
       "      <td>172</td>\n",
       "      <td>164</td>\n",
       "      <td>59.9509</td>\n",
       "      <td>-9.0491</td>\n",
       "    </tr>\n",
       "    <tr>\n",
       "      <th>2</th>\n",
       "      <td>Bundesliga</td>\n",
       "      <td>2014</td>\n",
       "      <td>3</td>\n",
       "      <td>Borussia M.Gladbach</td>\n",
       "      <td>34</td>\n",
       "      <td>19</td>\n",
       "      <td>9</td>\n",
       "      <td>6</td>\n",
       "      <td>53</td>\n",
       "      <td>26</td>\n",
       "      <td>...</td>\n",
       "      <td>36.343299</td>\n",
       "      <td>10.343299</td>\n",
       "      <td>33.312193</td>\n",
       "      <td>16.156039</td>\n",
       "      <td>12.751108</td>\n",
       "      <td>12.783803</td>\n",
       "      <td>221</td>\n",
       "      <td>198</td>\n",
       "      <td>57.0078</td>\n",
       "      <td>-8.9922</td>\n",
       "    </tr>\n",
       "    <tr>\n",
       "      <th>3</th>\n",
       "      <td>Bundesliga</td>\n",
       "      <td>2014</td>\n",
       "      <td>4</td>\n",
       "      <td>Bayer Leverkusen</td>\n",
       "      <td>34</td>\n",
       "      <td>17</td>\n",
       "      <td>10</td>\n",
       "      <td>7</td>\n",
       "      <td>62</td>\n",
       "      <td>37</td>\n",
       "      <td>...</td>\n",
       "      <td>34.720386</td>\n",
       "      <td>-2.279614</td>\n",
       "      <td>30.173724</td>\n",
       "      <td>18.224194</td>\n",
       "      <td>5.693289</td>\n",
       "      <td>7.347595</td>\n",
       "      <td>246</td>\n",
       "      <td>108</td>\n",
       "      <td>55.3396</td>\n",
       "      <td>-5.6604</td>\n",
       "    </tr>\n",
       "    <tr>\n",
       "      <th>4</th>\n",
       "      <td>Bundesliga</td>\n",
       "      <td>2014</td>\n",
       "      <td>5</td>\n",
       "      <td>Augsburg</td>\n",
       "      <td>34</td>\n",
       "      <td>15</td>\n",
       "      <td>4</td>\n",
       "      <td>15</td>\n",
       "      <td>43</td>\n",
       "      <td>43</td>\n",
       "      <td>...</td>\n",
       "      <td>46.659608</td>\n",
       "      <td>3.659608</td>\n",
       "      <td>43.628491</td>\n",
       "      <td>-5.908343</td>\n",
       "      <td>7.625900</td>\n",
       "      <td>10.402360</td>\n",
       "      <td>134</td>\n",
       "      <td>221</td>\n",
       "      <td>45.4960</td>\n",
       "      <td>-3.5040</td>\n",
       "    </tr>\n",
       "  </tbody>\n",
       "</table>\n",
       "<p>5 rows × 24 columns</p>\n",
       "</div>"
      ],
      "text/plain": [
       "  League_Name  Year_Started  Position            Team_Name  Matches  Wins  \\\n",
       "0  Bundesliga          2014         1        Bayern Munich       34    25   \n",
       "1  Bundesliga          2014         2            Wolfsburg       34    20   \n",
       "2  Bundesliga          2014         3  Borussia M.Gladbach       34    19   \n",
       "3  Bundesliga          2014         4     Bayer Leverkusen       34    17   \n",
       "4  Bundesliga          2014         5             Augsburg       34    15   \n",
       "\n",
       "   Draws  Losses  Scored  Missed  ...  Expected_GoalsAgainst   xGA_diff  \\\n",
       "0      4       5      80      18  ...              21.938729   3.938729   \n",
       "1      9       5      72      38  ...              38.822021   0.822021   \n",
       "2      9       6      53      26  ...              36.343299  10.343299   \n",
       "3     10       7      62      37  ...              34.720386  -2.279614   \n",
       "4      4      15      43      43  ...              46.659608   3.659608   \n",
       "\n",
       "       npxGA      npxGD  ppda_coef  oppda_coef  Deep  Deep_Allowed  \\\n",
       "0  20.423172  41.236085   5.761476   25.022717   388            83   \n",
       "1  36.419255  18.897371   9.136319   10.289876   172           164   \n",
       "2  33.312193  16.156039  12.751108   12.783803   221           198   \n",
       "3  30.173724  18.224194   5.693289    7.347595   246           108   \n",
       "4  43.628491  -5.908343   7.625900   10.402360   134           221   \n",
       "\n",
       "   Expected_Points  Xpts_Diff  \n",
       "0          73.6116    -5.3884  \n",
       "1          59.9509    -9.0491  \n",
       "2          57.0078    -8.9922  \n",
       "3          55.3396    -5.6604  \n",
       "4          45.4960    -3.5040  \n",
       "\n",
       "[5 rows x 24 columns]"
      ]
     },
     "execution_count": 293,
     "metadata": {},
     "output_type": "execute_result"
    }
   ],
   "source": [
    "fb_df.head()"
   ]
  },
  {
   "cell_type": "markdown",
   "metadata": {},
   "source": [
    "Binning - The only column I would want to bin is the year column, but since this would combine different teams and include scores from various games I am not going to."
   ]
  },
  {
   "cell_type": "markdown",
   "metadata": {},
   "source": [
    "## Exploratory Data Analysis "
   ]
  },
  {
   "cell_type": "markdown",
   "metadata": {},
   "source": [
    "#### Examine numeric columns:"
   ]
  },
  {
   "cell_type": "code",
   "execution_count": 294,
   "metadata": {},
   "outputs": [
    {
     "data": {
      "text/html": [
       "<div>\n",
       "<style scoped>\n",
       "    .dataframe tbody tr th:only-of-type {\n",
       "        vertical-align: middle;\n",
       "    }\n",
       "\n",
       "    .dataframe tbody tr th {\n",
       "        vertical-align: top;\n",
       "    }\n",
       "\n",
       "    .dataframe thead th {\n",
       "        text-align: right;\n",
       "    }\n",
       "</style>\n",
       "<table border=\"1\" class=\"dataframe\">\n",
       "  <thead>\n",
       "    <tr style=\"text-align: right;\">\n",
       "      <th></th>\n",
       "      <th>Year_Started</th>\n",
       "      <th>Position</th>\n",
       "      <th>Matches</th>\n",
       "      <th>Wins</th>\n",
       "      <th>Draws</th>\n",
       "      <th>Losses</th>\n",
       "      <th>Scored</th>\n",
       "      <th>Missed</th>\n",
       "      <th>Points</th>\n",
       "      <th>Expected_Goals</th>\n",
       "      <th>...</th>\n",
       "      <th>Expected_GoalsAgainst</th>\n",
       "      <th>xGA_diff</th>\n",
       "      <th>npxGA</th>\n",
       "      <th>npxGD</th>\n",
       "      <th>ppda_coef</th>\n",
       "      <th>oppda_coef</th>\n",
       "      <th>Deep</th>\n",
       "      <th>Deep_Allowed</th>\n",
       "      <th>Expected_Points</th>\n",
       "      <th>Xpts_Diff</th>\n",
       "    </tr>\n",
       "  </thead>\n",
       "  <tbody>\n",
       "    <tr>\n",
       "      <th>0</th>\n",
       "      <td>2014</td>\n",
       "      <td>1</td>\n",
       "      <td>34</td>\n",
       "      <td>25</td>\n",
       "      <td>4</td>\n",
       "      <td>5</td>\n",
       "      <td>80</td>\n",
       "      <td>18</td>\n",
       "      <td>79</td>\n",
       "      <td>66.205745</td>\n",
       "      <td>...</td>\n",
       "      <td>21.938729</td>\n",
       "      <td>3.938729</td>\n",
       "      <td>20.423172</td>\n",
       "      <td>41.236085</td>\n",
       "      <td>5.761476</td>\n",
       "      <td>25.022717</td>\n",
       "      <td>388</td>\n",
       "      <td>83</td>\n",
       "      <td>73.6116</td>\n",
       "      <td>-5.3884</td>\n",
       "    </tr>\n",
       "    <tr>\n",
       "      <th>1</th>\n",
       "      <td>2014</td>\n",
       "      <td>2</td>\n",
       "      <td>34</td>\n",
       "      <td>20</td>\n",
       "      <td>9</td>\n",
       "      <td>5</td>\n",
       "      <td>72</td>\n",
       "      <td>38</td>\n",
       "      <td>69</td>\n",
       "      <td>58.347731</td>\n",
       "      <td>...</td>\n",
       "      <td>38.822021</td>\n",
       "      <td>0.822021</td>\n",
       "      <td>36.419255</td>\n",
       "      <td>18.897371</td>\n",
       "      <td>9.136319</td>\n",
       "      <td>10.289876</td>\n",
       "      <td>172</td>\n",
       "      <td>164</td>\n",
       "      <td>59.9509</td>\n",
       "      <td>-9.0491</td>\n",
       "    </tr>\n",
       "    <tr>\n",
       "      <th>2</th>\n",
       "      <td>2014</td>\n",
       "      <td>3</td>\n",
       "      <td>34</td>\n",
       "      <td>19</td>\n",
       "      <td>9</td>\n",
       "      <td>6</td>\n",
       "      <td>53</td>\n",
       "      <td>26</td>\n",
       "      <td>66</td>\n",
       "      <td>51.741572</td>\n",
       "      <td>...</td>\n",
       "      <td>36.343299</td>\n",
       "      <td>10.343299</td>\n",
       "      <td>33.312193</td>\n",
       "      <td>16.156039</td>\n",
       "      <td>12.751108</td>\n",
       "      <td>12.783803</td>\n",
       "      <td>221</td>\n",
       "      <td>198</td>\n",
       "      <td>57.0078</td>\n",
       "      <td>-8.9922</td>\n",
       "    </tr>\n",
       "    <tr>\n",
       "      <th>3</th>\n",
       "      <td>2014</td>\n",
       "      <td>4</td>\n",
       "      <td>34</td>\n",
       "      <td>17</td>\n",
       "      <td>10</td>\n",
       "      <td>7</td>\n",
       "      <td>62</td>\n",
       "      <td>37</td>\n",
       "      <td>61</td>\n",
       "      <td>49.155699</td>\n",
       "      <td>...</td>\n",
       "      <td>34.720386</td>\n",
       "      <td>-2.279614</td>\n",
       "      <td>30.173724</td>\n",
       "      <td>18.224194</td>\n",
       "      <td>5.693289</td>\n",
       "      <td>7.347595</td>\n",
       "      <td>246</td>\n",
       "      <td>108</td>\n",
       "      <td>55.3396</td>\n",
       "      <td>-5.6604</td>\n",
       "    </tr>\n",
       "    <tr>\n",
       "      <th>4</th>\n",
       "      <td>2014</td>\n",
       "      <td>5</td>\n",
       "      <td>34</td>\n",
       "      <td>15</td>\n",
       "      <td>4</td>\n",
       "      <td>15</td>\n",
       "      <td>43</td>\n",
       "      <td>43</td>\n",
       "      <td>49</td>\n",
       "      <td>43.911698</td>\n",
       "      <td>...</td>\n",
       "      <td>46.659608</td>\n",
       "      <td>3.659608</td>\n",
       "      <td>43.628491</td>\n",
       "      <td>-5.908343</td>\n",
       "      <td>7.625900</td>\n",
       "      <td>10.402360</td>\n",
       "      <td>134</td>\n",
       "      <td>221</td>\n",
       "      <td>45.4960</td>\n",
       "      <td>-3.5040</td>\n",
       "    </tr>\n",
       "  </tbody>\n",
       "</table>\n",
       "<p>5 rows × 22 columns</p>\n",
       "</div>"
      ],
      "text/plain": [
       "   Year_Started  Position  Matches  Wins  Draws  Losses  Scored  Missed  \\\n",
       "0          2014         1       34    25      4       5      80      18   \n",
       "1          2014         2       34    20      9       5      72      38   \n",
       "2          2014         3       34    19      9       6      53      26   \n",
       "3          2014         4       34    17     10       7      62      37   \n",
       "4          2014         5       34    15      4      15      43      43   \n",
       "\n",
       "   Points  Expected_Goals  ...  Expected_GoalsAgainst   xGA_diff      npxGA  \\\n",
       "0      79       66.205745  ...              21.938729   3.938729  20.423172   \n",
       "1      69       58.347731  ...              38.822021   0.822021  36.419255   \n",
       "2      66       51.741572  ...              36.343299  10.343299  33.312193   \n",
       "3      61       49.155699  ...              34.720386  -2.279614  30.173724   \n",
       "4      49       43.911698  ...              46.659608   3.659608  43.628491   \n",
       "\n",
       "       npxGD  ppda_coef  oppda_coef  Deep  Deep_Allowed  Expected_Points  \\\n",
       "0  41.236085   5.761476   25.022717   388            83          73.6116   \n",
       "1  18.897371   9.136319   10.289876   172           164          59.9509   \n",
       "2  16.156039  12.751108   12.783803   221           198          57.0078   \n",
       "3  18.224194   5.693289    7.347595   246           108          55.3396   \n",
       "4  -5.908343   7.625900   10.402360   134           221          45.4960   \n",
       "\n",
       "   Xpts_Diff  \n",
       "0    -5.3884  \n",
       "1    -9.0491  \n",
       "2    -8.9922  \n",
       "3    -5.6604  \n",
       "4    -3.5040  \n",
       "\n",
       "[5 rows x 22 columns]"
      ]
     },
     "execution_count": 294,
     "metadata": {},
     "output_type": "execute_result"
    }
   ],
   "source": [
    "fb_df.select_dtypes(include=['float', 'int']).head()"
   ]
  },
  {
   "cell_type": "markdown",
   "metadata": {},
   "source": [
    "#### Examine distribution"
   ]
  },
  {
   "cell_type": "code",
   "execution_count": 295,
   "metadata": {},
   "outputs": [
    {
     "data": {
      "text/plain": [
       "<matplotlib.axes._subplots.AxesSubplot at 0x1a1fca6978>"
      ]
     },
     "execution_count": 295,
     "metadata": {},
     "output_type": "execute_result"
    },
    {
     "data": {
      "image/png": "[encoded data removed]",
      "text/plain": [
       "<Figure size 432x288 with 1 Axes>"
      ]
     },
     "metadata": {
      "needs_background": "light"
     },
     "output_type": "display_data"
    }
   ],
   "source": [
    "fb_df.Wins.plot('density')"
   ]
  },
  {
   "cell_type": "markdown",
   "metadata": {},
   "source": [
    "From examining the distribution you can infer that the scaling is all different, and standardization is required. "
   ]
  },
  {
   "cell_type": "code",
   "execution_count": 296,
   "metadata": {},
   "outputs": [
    {
     "data": {
      "text/plain": [
       "<matplotlib.axes._subplots.AxesSubplot at 0x1a1ff1c080>"
      ]
     },
     "execution_count": 296,
     "metadata": {},
     "output_type": "execute_result"
    },
    {
     "data": {
      "image/png": "[encoded data removed]",
      "text/plain": [
       "<Figure size 432x288 with 1 Axes>"
      ]
     },
     "metadata": {
      "needs_background": "light"
     },
     "output_type": "display_data"
    }
   ],
   "source": [
    "fb_df.Losses.plot('density')"
   ]
  },
  {
   "cell_type": "code",
   "execution_count": 297,
   "metadata": {},
   "outputs": [
    {
     "data": {
      "text/plain": [
       "<matplotlib.axes._subplots.AxesSubplot at 0x1a1fd37ac8>"
      ]
     },
     "execution_count": 297,
     "metadata": {},
     "output_type": "execute_result"
    },
    {
     "data": {
      "image/png": "[encoded data removed]",
      "text/plain": [
       "<Figure size 432x288 with 1 Axes>"
      ]
     },
     "metadata": {
      "needs_background": "light"
     },
     "output_type": "display_data"
    }
   ],
   "source": [
    "fb_df.Draws.plot('density')"
   ]
  },
  {
   "cell_type": "code",
   "execution_count": 298,
   "metadata": {},
   "outputs": [
    {
     "data": {
      "text/plain": [
       "<matplotlib.axes._subplots.AxesSubplot at 0x1a1f9caf98>"
      ]
     },
     "execution_count": 298,
     "metadata": {},
     "output_type": "execute_result"
    },
    {
     "data": {
      "image/png": "[encoded data removed]",
      "text/plain": [
       "<Figure size 432x288 with 1 Axes>"
      ]
     },
     "metadata": {
      "needs_background": "light"
     },
     "output_type": "display_data"
    }
   ],
   "source": [
    "fb_df.Scored.plot('density')"
   ]
  },
  {
   "cell_type": "code",
   "execution_count": 299,
   "metadata": {},
   "outputs": [
    {
     "data": {
      "text/plain": [
       "<matplotlib.axes._subplots.AxesSubplot at 0x1a1dfba748>"
      ]
     },
     "execution_count": 299,
     "metadata": {},
     "output_type": "execute_result"
    },
    {
     "data": {
      "image/png": "[encoded data removed]",
      "text/plain": [
       "<Figure size 432x288 with 1 Axes>"
      ]
     },
     "metadata": {
      "needs_background": "light"
     },
     "output_type": "display_data"
    }
   ],
   "source": [
    "fb_df.Matches.plot('density')"
   ]
  },
  {
   "cell_type": "code",
   "execution_count": 300,
   "metadata": {},
   "outputs": [
    {
     "data": {
      "text/plain": [
       "<matplotlib.axes._subplots.AxesSubplot at 0x1a1e0ab6d8>"
      ]
     },
     "execution_count": 300,
     "metadata": {},
     "output_type": "execute_result"
    },
    {
     "data": {
      "image/png": "[encoded data removed]",
      "text/plain": [
       "<Figure size 432x288 with 1 Axes>"
      ]
     },
     "metadata": {
      "needs_background": "light"
     },
     "output_type": "display_data"
    }
   ],
   "source": [
    "fb_df.Points.plot('density')"
   ]
  },
  {
   "cell_type": "code",
   "execution_count": 301,
   "metadata": {},
   "outputs": [
    {
     "data": {
      "text/plain": [
       "<matplotlib.axes._subplots.AxesSubplot at 0x1a1a9dae80>"
      ]
     },
     "execution_count": 301,
     "metadata": {},
     "output_type": "execute_result"
    },
    {
     "data": {
      "image/png": "[encoded data removed]",
      "text/plain": [
       "<Figure size 432x288 with 1 Axes>"
      ]
     },
     "metadata": {
      "needs_background": "light"
     },
     "output_type": "display_data"
    }
   ],
   "source": [
    "fb_df.Expected_Goals.plot('density')"
   ]
  },
  {
   "cell_type": "code",
   "execution_count": 302,
   "metadata": {},
   "outputs": [
    {
     "data": {
      "text/plain": [
       "<matplotlib.axes._subplots.AxesSubplot at 0x1a1e0a9978>"
      ]
     },
     "execution_count": 302,
     "metadata": {},
     "output_type": "execute_result"
    },
    {
     "data": {
      "image/png": "[encoded data removed]",
      "text/plain": [
       "<Figure size 432x288 with 1 Axes>"
      ]
     },
     "metadata": {
      "needs_background": "light"
     },
     "output_type": "display_data"
    }
   ],
   "source": [
    "fb_df.Expected_GoalsAgainst.plot('density')"
   ]
  },
  {
   "cell_type": "code",
   "execution_count": 303,
   "metadata": {},
   "outputs": [
    {
     "data": {
      "text/plain": [
       "<matplotlib.axes._subplots.AxesSubplot at 0x1a1f9c4ef0>"
      ]
     },
     "execution_count": 303,
     "metadata": {},
     "output_type": "execute_result"
    },
    {
     "data": {
      "image/png": "[encoded data removed]",
      "text/plain": [
       "<Figure size 432x288 with 1 Axes>"
      ]
     },
     "metadata": {
      "needs_background": "light"
     },
     "output_type": "display_data"
    }
   ],
   "source": [
    "fb_df.xGA_diff.plot('density')"
   ]
  },
  {
   "cell_type": "code",
   "execution_count": 304,
   "metadata": {},
   "outputs": [
    {
     "data": {
      "text/plain": [
       "<matplotlib.axes._subplots.AxesSubplot at 0x1a1fc85550>"
      ]
     },
     "execution_count": 304,
     "metadata": {},
     "output_type": "execute_result"
    },
    {
     "data": {
      "image/png": "[encoded data removed]",
      "text/plain": [
       "<Figure size 432x288 with 1 Axes>"
      ]
     },
     "metadata": {
      "needs_background": "light"
     },
     "output_type": "display_data"
    }
   ],
   "source": [
    "fb_df.npxGD.plot('density')"
   ]
  },
  {
   "cell_type": "code",
   "execution_count": 305,
   "metadata": {},
   "outputs": [
    {
     "data": {
      "text/plain": [
       "<matplotlib.axes._subplots.AxesSubplot at 0x1a1ffc4be0>"
      ]
     },
     "execution_count": 305,
     "metadata": {},
     "output_type": "execute_result"
    },
    {
     "data": {
      "image/png": "[encoded data removed]",
      "text/plain": [
       "<Figure size 432x288 with 1 Axes>"
      ]
     },
     "metadata": {
      "needs_background": "light"
     },
     "output_type": "display_data"
    }
   ],
   "source": [
    "fb_df.ppda_coef.plot('density')"
   ]
  },
  {
   "cell_type": "code",
   "execution_count": 306,
   "metadata": {},
   "outputs": [
    {
     "data": {
      "text/plain": [
       "<matplotlib.axes._subplots.AxesSubplot at 0x1a20190860>"
      ]
     },
     "execution_count": 306,
     "metadata": {},
     "output_type": "execute_result"
    },
    {
     "data": {
      "image/png": "[encoded data removed]",
      "text/plain": [
       "<Figure size 432x288 with 1 Axes>"
      ]
     },
     "metadata": {
      "needs_background": "light"
     },
     "output_type": "display_data"
    }
   ],
   "source": [
    "fb_df.oppda_coef.plot('density')"
   ]
  },
  {
   "cell_type": "code",
   "execution_count": 307,
   "metadata": {},
   "outputs": [
    {
     "data": {
      "text/plain": [
       "<matplotlib.axes._subplots.AxesSubplot at 0x1a2025b7b8>"
      ]
     },
     "execution_count": 307,
     "metadata": {},
     "output_type": "execute_result"
    },
    {
     "data": {
      "image/png": "[encoded data removed]",
      "text/plain": [
       "<Figure size 432x288 with 1 Axes>"
      ]
     },
     "metadata": {
      "needs_background": "light"
     },
     "output_type": "display_data"
    }
   ],
   "source": [
    "fb_df.Deep.plot('density')"
   ]
  },
  {
   "cell_type": "code",
   "execution_count": 308,
   "metadata": {},
   "outputs": [
    {
     "data": {
      "text/plain": [
       "<matplotlib.axes._subplots.AxesSubplot at 0x1a20392cf8>"
      ]
     },
     "execution_count": 308,
     "metadata": {},
     "output_type": "execute_result"
    },
    {
     "data": {
      "image/png": "[encoded data removed]",
      "text/plain": [
       "<Figure size 432x288 with 1 Axes>"
      ]
     },
     "metadata": {
      "needs_background": "light"
     },
     "output_type": "display_data"
    }
   ],
   "source": [
    "fb_df.Deep_Allowed.plot('density')"
   ]
  },
  {
   "cell_type": "code",
   "execution_count": 309,
   "metadata": {},
   "outputs": [
    {
     "data": {
      "text/plain": [
       "<matplotlib.axes._subplots.AxesSubplot at 0x1a20452470>"
      ]
     },
     "execution_count": 309,
     "metadata": {},
     "output_type": "execute_result"
    },
    {
     "data": {
      "image/png": "[encoded data removed]",
      "text/plain": [
       "<Figure size 432x288 with 1 Axes>"
      ]
     },
     "metadata": {
      "needs_background": "light"
     },
     "output_type": "display_data"
    }
   ],
   "source": [
    "fb_df.Expected_Points.plot('density')"
   ]
  },
  {
   "cell_type": "code",
   "execution_count": 310,
   "metadata": {},
   "outputs": [
    {
     "data": {
      "text/plain": [
       "<matplotlib.axes._subplots.AxesSubplot at 0x1a2019c7f0>"
      ]
     },
     "execution_count": 310,
     "metadata": {},
     "output_type": "execute_result"
    },
    {
     "data": {
      "image/png": "[encoded data removed]",
      "text/plain": [
       "<Figure size 432x288 with 1 Axes>"
      ]
     },
     "metadata": {
      "needs_background": "light"
     },
     "output_type": "display_data"
    }
   ],
   "source": [
    "fb_df.Xpts_Diff.plot('density')"
   ]
  },
  {
   "cell_type": "markdown",
   "metadata": {},
   "source": [
    "As you can see, most of the charts show a normal distrubiton, but I will be further using the min max scaler to standardize the data"
   ]
  },
  {
   "cell_type": "markdown",
   "metadata": {},
   "source": [
    "### Normalization"
   ]
  },
  {
   "cell_type": "markdown",
   "metadata": {},
   "source": [
    "Min max scaling is helpful because it scales the date between 0 and 1 so that all the numeric columns are standardized on the same scale"
   ]
  },
  {
   "cell_type": "markdown",
   "metadata": {},
   "source": [
    "### Examine Correlation"
   ]
  },
  {
   "cell_type": "code",
   "execution_count": 311,
   "metadata": {},
   "outputs": [
    {
     "data": {
      "text/html": [
       "<div>\n",
       "<style scoped>\n",
       "    .dataframe tbody tr th:only-of-type {\n",
       "        vertical-align: middle;\n",
       "    }\n",
       "\n",
       "    .dataframe tbody tr th {\n",
       "        vertical-align: top;\n",
       "    }\n",
       "\n",
       "    .dataframe thead th {\n",
       "        text-align: right;\n",
       "    }\n",
       "</style>\n",
       "<table border=\"1\" class=\"dataframe\">\n",
       "  <thead>\n",
       "    <tr style=\"text-align: right;\">\n",
       "      <th></th>\n",
       "      <th>Year_Started</th>\n",
       "      <th>Position</th>\n",
       "      <th>Matches</th>\n",
       "      <th>Wins</th>\n",
       "      <th>Draws</th>\n",
       "      <th>Losses</th>\n",
       "      <th>Scored</th>\n",
       "      <th>Missed</th>\n",
       "      <th>Points</th>\n",
       "      <th>Expected_Goals</th>\n",
       "      <th>...</th>\n",
       "      <th>Expected_GoalsAgainst</th>\n",
       "      <th>xGA_diff</th>\n",
       "      <th>npxGA</th>\n",
       "      <th>npxGD</th>\n",
       "      <th>ppda_coef</th>\n",
       "      <th>oppda_coef</th>\n",
       "      <th>Deep</th>\n",
       "      <th>Deep_Allowed</th>\n",
       "      <th>Expected_Points</th>\n",
       "      <th>Xpts_Diff</th>\n",
       "    </tr>\n",
       "  </thead>\n",
       "  <tbody>\n",
       "    <tr>\n",
       "      <th>Year_Started</th>\n",
       "      <td>1.000000e+00</td>\n",
       "      <td>-1.422701e-17</td>\n",
       "      <td>-1.214293e-17</td>\n",
       "      <td>0.002510</td>\n",
       "      <td>-0.010181</td>\n",
       "      <td>0.002689</td>\n",
       "      <td>0.027178</td>\n",
       "      <td>0.034619</td>\n",
       "      <td>0.000874</td>\n",
       "      <td>0.079035</td>\n",
       "      <td>...</td>\n",
       "      <td>0.098335</td>\n",
       "      <td>0.099493</td>\n",
       "      <td>0.087815</td>\n",
       "      <td>0.000000e+00</td>\n",
       "      <td>0.345037</td>\n",
       "      <td>0.260640</td>\n",
       "      <td>0.089933</td>\n",
       "      <td>0.142871</td>\n",
       "      <td>0.005502</td>\n",
       "      <td>0.008257</td>\n",
       "    </tr>\n",
       "    <tr>\n",
       "      <th>Position</th>\n",
       "      <td>-1.422701e-17</td>\n",
       "      <td>1.000000e+00</td>\n",
       "      <td>1.301810e-01</td>\n",
       "      <td>-0.870112</td>\n",
       "      <td>0.187476</td>\n",
       "      <td>0.901305</td>\n",
       "      <td>-0.706990</td>\n",
       "      <td>0.767288</td>\n",
       "      <td>-0.876426</td>\n",
       "      <td>-0.633812</td>\n",
       "      <td>...</td>\n",
       "      <td>0.689645</td>\n",
       "      <td>-0.390420</td>\n",
       "      <td>0.676718</td>\n",
       "      <td>-8.217152e-01</td>\n",
       "      <td>0.477974</td>\n",
       "      <td>-0.558568</td>\n",
       "      <td>-0.614252</td>\n",
       "      <td>0.621703</td>\n",
       "      <td>-0.758929</td>\n",
       "      <td>0.646624</td>\n",
       "    </tr>\n",
       "    <tr>\n",
       "      <th>Matches</th>\n",
       "      <td>-1.214293e-17</td>\n",
       "      <td>1.301810e-01</td>\n",
       "      <td>1.000000e+00</td>\n",
       "      <td>0.202108</td>\n",
       "      <td>0.173228</td>\n",
       "      <td>0.216498</td>\n",
       "      <td>0.294986</td>\n",
       "      <td>0.375751</td>\n",
       "      <td>0.240787</td>\n",
       "      <td>0.365567</td>\n",
       "      <td>...</td>\n",
       "      <td>0.454836</td>\n",
       "      <td>0.012829</td>\n",
       "      <td>0.451742</td>\n",
       "      <td>-2.885568e-18</td>\n",
       "      <td>0.020782</td>\n",
       "      <td>0.015699</td>\n",
       "      <td>0.166982</td>\n",
       "      <td>0.265272</td>\n",
       "      <td>0.305660</td>\n",
       "      <td>0.004586</td>\n",
       "    </tr>\n",
       "    <tr>\n",
       "      <th>Wins</th>\n",
       "      <td>2.510368e-03</td>\n",
       "      <td>-8.701120e-01</td>\n",
       "      <td>2.021080e-01</td>\n",
       "      <td>1.000000</td>\n",
       "      <td>-0.334472</td>\n",
       "      <td>-0.788496</td>\n",
       "      <td>0.882977</td>\n",
       "      <td>-0.615375</td>\n",
       "      <td>0.986827</td>\n",
       "      <td>0.818197</td>\n",
       "      <td>...</td>\n",
       "      <td>-0.531104</td>\n",
       "      <td>0.351449</td>\n",
       "      <td>-0.522722</td>\n",
       "      <td>8.649720e-01</td>\n",
       "      <td>-0.451938</td>\n",
       "      <td>0.642113</td>\n",
       "      <td>0.739290</td>\n",
       "      <td>-0.547382</td>\n",
       "      <td>0.891562</td>\n",
       "      <td>-0.658613</td>\n",
       "    </tr>\n",
       "    <tr>\n",
       "      <th>Draws</th>\n",
       "      <td>-1.018053e-02</td>\n",
       "      <td>1.874761e-01</td>\n",
       "      <td>1.732278e-01</td>\n",
       "      <td>-0.334472</td>\n",
       "      <td>1.000000</td>\n",
       "      <td>-0.079138</td>\n",
       "      <td>-0.224380</td>\n",
       "      <td>0.031134</td>\n",
       "      <td>-0.177607</td>\n",
       "      <td>-0.171363</td>\n",
       "      <td>...</td>\n",
       "      <td>0.077043</td>\n",
       "      <td>0.069629</td>\n",
       "      <td>0.080713</td>\n",
       "      <td>-1.691746e-01</td>\n",
       "      <td>0.061143</td>\n",
       "      <td>-0.233454</td>\n",
       "      <td>-0.204820</td>\n",
       "      <td>0.120261</td>\n",
       "      <td>-0.100008</td>\n",
       "      <td>0.231933</td>\n",
       "    </tr>\n",
       "    <tr>\n",
       "      <th>Losses</th>\n",
       "      <td>2.689107e-03</td>\n",
       "      <td>9.013048e-01</td>\n",
       "      <td>2.164982e-01</td>\n",
       "      <td>-0.788496</td>\n",
       "      <td>-0.079138</td>\n",
       "      <td>1.000000</td>\n",
       "      <td>-0.672585</td>\n",
       "      <td>0.839828</td>\n",
       "      <td>-0.836968</td>\n",
       "      <td>-0.594181</td>\n",
       "      <td>...</td>\n",
       "      <td>0.766785</td>\n",
       "      <td>-0.406527</td>\n",
       "      <td>0.754244</td>\n",
       "      <td>-8.371860e-01</td>\n",
       "      <td>0.462716</td>\n",
       "      <td>-0.556268</td>\n",
       "      <td>-0.596141</td>\n",
       "      <td>0.661962</td>\n",
       "      <td>-0.741887</td>\n",
       "      <td>0.585385</td>\n",
       "    </tr>\n",
       "    <tr>\n",
       "      <th>Scored</th>\n",
       "      <td>2.717773e-02</td>\n",
       "      <td>-7.069905e-01</td>\n",
       "      <td>2.949861e-01</td>\n",
       "      <td>0.882977</td>\n",
       "      <td>-0.224380</td>\n",
       "      <td>-0.672585</td>\n",
       "      <td>1.000000</td>\n",
       "      <td>-0.356012</td>\n",
       "      <td>0.883525</td>\n",
       "      <td>0.925952</td>\n",
       "      <td>...</td>\n",
       "      <td>-0.328788</td>\n",
       "      <td>0.165816</td>\n",
       "      <td>-0.322772</td>\n",
       "      <td>8.258546e-01</td>\n",
       "      <td>-0.437775</td>\n",
       "      <td>0.630792</td>\n",
       "      <td>0.797548</td>\n",
       "      <td>-0.422792</td>\n",
       "      <td>0.876481</td>\n",
       "      <td>-0.442893</td>\n",
       "    </tr>\n",
       "    <tr>\n",
       "      <th>Missed</th>\n",
       "      <td>3.461879e-02</td>\n",
       "      <td>7.672884e-01</td>\n",
       "      <td>3.757511e-01</td>\n",
       "      <td>-0.615375</td>\n",
       "      <td>0.031134</td>\n",
       "      <td>0.839828</td>\n",
       "      <td>-0.356012</td>\n",
       "      <td>1.000000</td>\n",
       "      <td>-0.637257</td>\n",
       "      <td>-0.306800</td>\n",
       "      <td>...</td>\n",
       "      <td>0.876966</td>\n",
       "      <td>-0.546884</td>\n",
       "      <td>0.863690</td>\n",
       "      <td>-6.993028e-01</td>\n",
       "      <td>0.376758</td>\n",
       "      <td>-0.443389</td>\n",
       "      <td>-0.391654</td>\n",
       "      <td>0.675296</td>\n",
       "      <td>-0.548488</td>\n",
       "      <td>0.476424</td>\n",
       "    </tr>\n",
       "    <tr>\n",
       "      <th>Points</th>\n",
       "      <td>8.738123e-04</td>\n",
       "      <td>-8.764265e-01</td>\n",
       "      <td>2.407870e-01</td>\n",
       "      <td>0.986827</td>\n",
       "      <td>-0.177607</td>\n",
       "      <td>-0.836968</td>\n",
       "      <td>0.883525</td>\n",
       "      <td>-0.637257</td>\n",
       "      <td>1.000000</td>\n",
       "      <td>0.824980</td>\n",
       "      <td>...</td>\n",
       "      <td>-0.541377</td>\n",
       "      <td>0.378951</td>\n",
       "      <td>-0.531994</td>\n",
       "      <td>8.742008e-01</td>\n",
       "      <td>-0.461438</td>\n",
       "      <td>0.630448</td>\n",
       "      <td>0.736839</td>\n",
       "      <td>-0.550956</td>\n",
       "      <td>0.913841</td>\n",
       "      <td>-0.647938</td>\n",
       "    </tr>\n",
       "    <tr>\n",
       "      <th>Expected_Goals</th>\n",
       "      <td>7.903514e-02</td>\n",
       "      <td>-6.338118e-01</td>\n",
       "      <td>3.655672e-01</td>\n",
       "      <td>0.818197</td>\n",
       "      <td>-0.171363</td>\n",
       "      <td>-0.594181</td>\n",
       "      <td>0.925952</td>\n",
       "      <td>-0.306800</td>\n",
       "      <td>0.824980</td>\n",
       "      <td>1.000000</td>\n",
       "      <td>...</td>\n",
       "      <td>-0.264149</td>\n",
       "      <td>0.176328</td>\n",
       "      <td>-0.250897</td>\n",
       "      <td>8.351306e-01</td>\n",
       "      <td>-0.432416</td>\n",
       "      <td>0.633282</td>\n",
       "      <td>0.835643</td>\n",
       "      <td>-0.381061</td>\n",
       "      <td>0.914043</td>\n",
       "      <td>-0.234148</td>\n",
       "    </tr>\n",
       "    <tr>\n",
       "      <th>xG_diff</th>\n",
       "      <td>9.599821e-02</td>\n",
       "      <td>4.771775e-01</td>\n",
       "      <td>1.237880e-02</td>\n",
       "      <td>-0.540294</td>\n",
       "      <td>0.213754</td>\n",
       "      <td>0.472334</td>\n",
       "      <td>-0.613330</td>\n",
       "      <td>0.266142</td>\n",
       "      <td>-0.527505</td>\n",
       "      <td>-0.269642</td>\n",
       "      <td>...</td>\n",
       "      <td>0.285926</td>\n",
       "      <td>-0.054035</td>\n",
       "      <td>0.298302</td>\n",
       "      <td>-3.592207e-01</td>\n",
       "      <td>0.211909</td>\n",
       "      <td>-0.283984</td>\n",
       "      <td>-0.285969</td>\n",
       "      <td>0.281114</td>\n",
       "      <td>-0.323272</td>\n",
       "      <td>0.639632</td>\n",
       "    </tr>\n",
       "    <tr>\n",
       "      <th>npxG</th>\n",
       "      <td>7.004033e-02</td>\n",
       "      <td>-6.321608e-01</td>\n",
       "      <td>3.603043e-01</td>\n",
       "      <td>0.816677</td>\n",
       "      <td>-0.176896</td>\n",
       "      <td>-0.592391</td>\n",
       "      <td>0.920367</td>\n",
       "      <td>-0.308453</td>\n",
       "      <td>0.822444</td>\n",
       "      <td>0.990923</td>\n",
       "      <td>...</td>\n",
       "      <td>-0.264644</td>\n",
       "      <td>0.178895</td>\n",
       "      <td>-0.249380</td>\n",
       "      <td>8.406466e-01</td>\n",
       "      <td>-0.426920</td>\n",
       "      <td>0.641393</td>\n",
       "      <td>0.840487</td>\n",
       "      <td>-0.375676</td>\n",
       "      <td>0.906472</td>\n",
       "      <td>-0.242360</td>\n",
       "    </tr>\n",
       "    <tr>\n",
       "      <th>Expected_GoalsAgainst</th>\n",
       "      <td>9.833500e-02</td>\n",
       "      <td>6.896448e-01</td>\n",
       "      <td>4.548363e-01</td>\n",
       "      <td>-0.531104</td>\n",
       "      <td>0.077043</td>\n",
       "      <td>0.766785</td>\n",
       "      <td>-0.328788</td>\n",
       "      <td>0.876966</td>\n",
       "      <td>-0.541377</td>\n",
       "      <td>-0.264149</td>\n",
       "      <td>...</td>\n",
       "      <td>1.000000</td>\n",
       "      <td>-0.077275</td>\n",
       "      <td>0.988283</td>\n",
       "      <td>-7.382638e-01</td>\n",
       "      <td>0.405927</td>\n",
       "      <td>-0.446970</td>\n",
       "      <td>-0.380355</td>\n",
       "      <td>0.783724</td>\n",
       "      <td>-0.555736</td>\n",
       "      <td>0.236350</td>\n",
       "    </tr>\n",
       "    <tr>\n",
       "      <th>xGA_diff</th>\n",
       "      <td>9.949285e-02</td>\n",
       "      <td>-3.904202e-01</td>\n",
       "      <td>1.282943e-02</td>\n",
       "      <td>0.351449</td>\n",
       "      <td>0.069629</td>\n",
       "      <td>-0.406527</td>\n",
       "      <td>0.165816</td>\n",
       "      <td>-0.546884</td>\n",
       "      <td>0.378951</td>\n",
       "      <td>0.176328</td>\n",
       "      <td>...</td>\n",
       "      <td>-0.077275</td>\n",
       "      <td>1.000000</td>\n",
       "      <td>-0.070145</td>\n",
       "      <td>1.646667e-01</td>\n",
       "      <td>-0.074468</td>\n",
       "      <td>0.141204</td>\n",
       "      <td>0.149925</td>\n",
       "      <td>-0.035661</td>\n",
       "      <td>0.169764</td>\n",
       "      <td>-0.576678</td>\n",
       "    </tr>\n",
       "    <tr>\n",
       "      <th>npxGA</th>\n",
       "      <td>8.781514e-02</td>\n",
       "      <td>6.767176e-01</td>\n",
       "      <td>4.517421e-01</td>\n",
       "      <td>-0.522722</td>\n",
       "      <td>0.080713</td>\n",
       "      <td>0.754244</td>\n",
       "      <td>-0.322772</td>\n",
       "      <td>0.863690</td>\n",
       "      <td>-0.531994</td>\n",
       "      <td>-0.250897</td>\n",
       "      <td>...</td>\n",
       "      <td>0.988283</td>\n",
       "      <td>-0.070145</td>\n",
       "      <td>1.000000</td>\n",
       "      <td>-7.341133e-01</td>\n",
       "      <td>0.402576</td>\n",
       "      <td>-0.436486</td>\n",
       "      <td>-0.362049</td>\n",
       "      <td>0.791095</td>\n",
       "      <td>-0.540036</td>\n",
       "      <td>0.243637</td>\n",
       "    </tr>\n",
       "    <tr>\n",
       "      <th>npxGD</th>\n",
       "      <td>0.000000e+00</td>\n",
       "      <td>-8.217152e-01</td>\n",
       "      <td>-2.885568e-18</td>\n",
       "      <td>0.864972</td>\n",
       "      <td>-0.169175</td>\n",
       "      <td>-0.837186</td>\n",
       "      <td>0.825855</td>\n",
       "      <td>-0.699303</td>\n",
       "      <td>0.874201</td>\n",
       "      <td>0.835131</td>\n",
       "      <td>...</td>\n",
       "      <td>-0.738264</td>\n",
       "      <td>0.164667</td>\n",
       "      <td>-0.734113</td>\n",
       "      <td>1.000000e+00</td>\n",
       "      <td>-0.524490</td>\n",
       "      <td>0.693838</td>\n",
       "      <td>0.791810</td>\n",
       "      <td>-0.705839</td>\n",
       "      <td>0.937617</td>\n",
       "      <td>-0.306193</td>\n",
       "    </tr>\n",
       "    <tr>\n",
       "      <th>ppda_coef</th>\n",
       "      <td>3.450373e-01</td>\n",
       "      <td>4.779742e-01</td>\n",
       "      <td>2.078215e-02</td>\n",
       "      <td>-0.451938</td>\n",
       "      <td>0.061143</td>\n",
       "      <td>0.462716</td>\n",
       "      <td>-0.437775</td>\n",
       "      <td>0.376758</td>\n",
       "      <td>-0.461438</td>\n",
       "      <td>-0.432416</td>\n",
       "      <td>...</td>\n",
       "      <td>0.405927</td>\n",
       "      <td>-0.074468</td>\n",
       "      <td>0.402576</td>\n",
       "      <td>-5.244902e-01</td>\n",
       "      <td>1.000000</td>\n",
       "      <td>-0.233814</td>\n",
       "      <td>-0.413578</td>\n",
       "      <td>0.569947</td>\n",
       "      <td>-0.496289</td>\n",
       "      <td>0.159037</td>\n",
       "    </tr>\n",
       "    <tr>\n",
       "      <th>oppda_coef</th>\n",
       "      <td>2.606403e-01</td>\n",
       "      <td>-5.585681e-01</td>\n",
       "      <td>1.569879e-02</td>\n",
       "      <td>0.642113</td>\n",
       "      <td>-0.233454</td>\n",
       "      <td>-0.556268</td>\n",
       "      <td>0.630792</td>\n",
       "      <td>-0.443389</td>\n",
       "      <td>0.630448</td>\n",
       "      <td>0.633282</td>\n",
       "      <td>...</td>\n",
       "      <td>-0.446970</td>\n",
       "      <td>0.141204</td>\n",
       "      <td>-0.436486</td>\n",
       "      <td>6.938384e-01</td>\n",
       "      <td>-0.233814</td>\n",
       "      <td>1.000000</td>\n",
       "      <td>0.711109</td>\n",
       "      <td>-0.459637</td>\n",
       "      <td>0.656933</td>\n",
       "      <td>-0.256922</td>\n",
       "    </tr>\n",
       "    <tr>\n",
       "      <th>Deep</th>\n",
       "      <td>8.993332e-02</td>\n",
       "      <td>-6.142518e-01</td>\n",
       "      <td>1.669816e-01</td>\n",
       "      <td>0.739290</td>\n",
       "      <td>-0.204820</td>\n",
       "      <td>-0.596141</td>\n",
       "      <td>0.797548</td>\n",
       "      <td>-0.391654</td>\n",
       "      <td>0.736839</td>\n",
       "      <td>0.835643</td>\n",
       "      <td>...</td>\n",
       "      <td>-0.380355</td>\n",
       "      <td>0.149925</td>\n",
       "      <td>-0.362049</td>\n",
       "      <td>7.918101e-01</td>\n",
       "      <td>-0.413578</td>\n",
       "      <td>0.711109</td>\n",
       "      <td>1.000000</td>\n",
       "      <td>-0.393007</td>\n",
       "      <td>0.802931</td>\n",
       "      <td>-0.234372</td>\n",
       "    </tr>\n",
       "    <tr>\n",
       "      <th>Deep_Allowed</th>\n",
       "      <td>1.428707e-01</td>\n",
       "      <td>6.217026e-01</td>\n",
       "      <td>2.652720e-01</td>\n",
       "      <td>-0.547382</td>\n",
       "      <td>0.120261</td>\n",
       "      <td>0.661962</td>\n",
       "      <td>-0.422792</td>\n",
       "      <td>0.675296</td>\n",
       "      <td>-0.550956</td>\n",
       "      <td>-0.381061</td>\n",
       "      <td>...</td>\n",
       "      <td>0.783724</td>\n",
       "      <td>-0.035661</td>\n",
       "      <td>0.791095</td>\n",
       "      <td>-7.058388e-01</td>\n",
       "      <td>0.569947</td>\n",
       "      <td>-0.459637</td>\n",
       "      <td>-0.393007</td>\n",
       "      <td>1.000000</td>\n",
       "      <td>-0.582435</td>\n",
       "      <td>0.208897</td>\n",
       "    </tr>\n",
       "    <tr>\n",
       "      <th>Expected_Points</th>\n",
       "      <td>5.502317e-03</td>\n",
       "      <td>-7.589292e-01</td>\n",
       "      <td>3.056603e-01</td>\n",
       "      <td>0.891562</td>\n",
       "      <td>-0.100008</td>\n",
       "      <td>-0.741887</td>\n",
       "      <td>0.876481</td>\n",
       "      <td>-0.548488</td>\n",
       "      <td>0.913841</td>\n",
       "      <td>0.914043</td>\n",
       "      <td>...</td>\n",
       "      <td>-0.555736</td>\n",
       "      <td>0.169764</td>\n",
       "      <td>-0.540036</td>\n",
       "      <td>9.376167e-01</td>\n",
       "      <td>-0.496289</td>\n",
       "      <td>0.656933</td>\n",
       "      <td>0.802931</td>\n",
       "      <td>-0.582435</td>\n",
       "      <td>1.000000</td>\n",
       "      <td>-0.282810</td>\n",
       "    </tr>\n",
       "    <tr>\n",
       "      <th>Xpts_Diff</th>\n",
       "      <td>8.256990e-03</td>\n",
       "      <td>6.466243e-01</td>\n",
       "      <td>4.585821e-03</td>\n",
       "      <td>-0.658613</td>\n",
       "      <td>0.231933</td>\n",
       "      <td>0.585385</td>\n",
       "      <td>-0.442893</td>\n",
       "      <td>0.476424</td>\n",
       "      <td>-0.647938</td>\n",
       "      <td>-0.234148</td>\n",
       "      <td>...</td>\n",
       "      <td>0.236350</td>\n",
       "      <td>-0.576678</td>\n",
       "      <td>0.243637</td>\n",
       "      <td>-3.061928e-01</td>\n",
       "      <td>0.159037</td>\n",
       "      <td>-0.256922</td>\n",
       "      <td>-0.234372</td>\n",
       "      <td>0.208897</td>\n",
       "      <td>-0.282810</td>\n",
       "      <td>1.000000</td>\n",
       "    </tr>\n",
       "  </tbody>\n",
       "</table>\n",
       "<p>22 rows × 22 columns</p>\n",
       "</div>"
      ],
      "text/plain": [
       "                       Year_Started      Position       Matches      Wins  \\\n",
       "Year_Started           1.000000e+00 -1.422701e-17 -1.214293e-17  0.002510   \n",
       "Position              -1.422701e-17  1.000000e+00  1.301810e-01 -0.870112   \n",
       "Matches               -1.214293e-17  1.301810e-01  1.000000e+00  0.202108   \n",
       "Wins                   2.510368e-03 -8.701120e-01  2.021080e-01  1.000000   \n",
       "Draws                 -1.018053e-02  1.874761e-01  1.732278e-01 -0.334472   \n",
       "Losses                 2.689107e-03  9.013048e-01  2.164982e-01 -0.788496   \n",
       "Scored                 2.717773e-02 -7.069905e-01  2.949861e-01  0.882977   \n",
       "Missed                 3.461879e-02  7.672884e-01  3.757511e-01 -0.615375   \n",
       "Points                 8.738123e-04 -8.764265e-01  2.407870e-01  0.986827   \n",
       "Expected_Goals         7.903514e-02 -6.338118e-01  3.655672e-01  0.818197   \n",
       "xG_diff                9.599821e-02  4.771775e-01  1.237880e-02 -0.540294   \n",
       "npxG                   7.004033e-02 -6.321608e-01  3.603043e-01  0.816677   \n",
       "Expected_GoalsAgainst  9.833500e-02  6.896448e-01  4.548363e-01 -0.531104   \n",
       "xGA_diff               9.949285e-02 -3.904202e-01  1.282943e-02  0.351449   \n",
       "npxGA                  8.781514e-02  6.767176e-01  4.517421e-01 -0.522722   \n",
       "npxGD                  0.000000e+00 -8.217152e-01 -2.885568e-18  0.864972   \n",
       "ppda_coef              3.450373e-01  4.779742e-01  2.078215e-02 -0.451938   \n",
       "oppda_coef             2.606403e-01 -5.585681e-01  1.569879e-02  0.642113   \n",
       "Deep                   8.993332e-02 -6.142518e-01  1.669816e-01  0.739290   \n",
       "Deep_Allowed           1.428707e-01  6.217026e-01  2.652720e-01 -0.547382   \n",
       "Expected_Points        5.502317e-03 -7.589292e-01  3.056603e-01  0.891562   \n",
       "Xpts_Diff              8.256990e-03  6.466243e-01  4.585821e-03 -0.658613   \n",
       "\n",
       "                          Draws    Losses    Scored    Missed    Points  \\\n",
       "Year_Started          -0.010181  0.002689  0.027178  0.034619  0.000874   \n",
       "Position               0.187476  0.901305 -0.706990  0.767288 -0.876426   \n",
       "Matches                0.173228  0.216498  0.294986  0.375751  0.240787   \n",
       "Wins                  -0.334472 -0.788496  0.882977 -0.615375  0.986827   \n",
       "Draws                  1.000000 -0.079138 -0.224380  0.031134 -0.177607   \n",
       "Losses                -0.079138  1.000000 -0.672585  0.839828 -0.836968   \n",
       "Scored                -0.224380 -0.672585  1.000000 -0.356012  0.883525   \n",
       "Missed                 0.031134  0.839828 -0.356012  1.000000 -0.637257   \n",
       "Points                -0.177607 -0.836968  0.883525 -0.637257  1.000000   \n",
       "Expected_Goals        -0.171363 -0.594181  0.925952 -0.306800  0.824980   \n",
       "xG_diff                0.213754  0.472334 -0.613330  0.266142 -0.527505   \n",
       "npxG                  -0.176896 -0.592391  0.920367 -0.308453  0.822444   \n",
       "Expected_GoalsAgainst  0.077043  0.766785 -0.328788  0.876966 -0.541377   \n",
       "xGA_diff               0.069629 -0.406527  0.165816 -0.546884  0.378951   \n",
       "npxGA                  0.080713  0.754244 -0.322772  0.863690 -0.531994   \n",
       "npxGD                 -0.169175 -0.837186  0.825855 -0.699303  0.874201   \n",
       "ppda_coef              0.061143  0.462716 -0.437775  0.376758 -0.461438   \n",
       "oppda_coef            -0.233454 -0.556268  0.630792 -0.443389  0.630448   \n",
       "Deep                  -0.204820 -0.596141  0.797548 -0.391654  0.736839   \n",
       "Deep_Allowed           0.120261  0.661962 -0.422792  0.675296 -0.550956   \n",
       "Expected_Points       -0.100008 -0.741887  0.876481 -0.548488  0.913841   \n",
       "Xpts_Diff              0.231933  0.585385 -0.442893  0.476424 -0.647938   \n",
       "\n",
       "                       Expected_Goals  ...  Expected_GoalsAgainst  xGA_diff  \\\n",
       "Year_Started                 0.079035  ...               0.098335  0.099493   \n",
       "Position                    -0.633812  ...               0.689645 -0.390420   \n",
       "Matches                      0.365567  ...               0.454836  0.012829   \n",
       "Wins                         0.818197  ...              -0.531104  0.351449   \n",
       "Draws                       -0.171363  ...               0.077043  0.069629   \n",
       "Losses                      -0.594181  ...               0.766785 -0.406527   \n",
       "Scored                       0.925952  ...              -0.328788  0.165816   \n",
       "Missed                      -0.306800  ...               0.876966 -0.546884   \n",
       "Points                       0.824980  ...              -0.541377  0.378951   \n",
       "Expected_Goals               1.000000  ...              -0.264149  0.176328   \n",
       "xG_diff                     -0.269642  ...               0.285926 -0.054035   \n",
       "npxG                         0.990923  ...              -0.264644  0.178895   \n",
       "Expected_GoalsAgainst       -0.264149  ...               1.000000 -0.077275   \n",
       "xGA_diff                     0.176328  ...              -0.077275  1.000000   \n",
       "npxGA                       -0.250897  ...               0.988283 -0.070145   \n",
       "npxGD                        0.835131  ...              -0.738264  0.164667   \n",
       "ppda_coef                   -0.432416  ...               0.405927 -0.074468   \n",
       "oppda_coef                   0.633282  ...              -0.446970  0.141204   \n",
       "Deep                         0.835643  ...              -0.380355  0.149925   \n",
       "Deep_Allowed                -0.381061  ...               0.783724 -0.035661   \n",
       "Expected_Points              0.914043  ...              -0.555736  0.169764   \n",
       "Xpts_Diff                   -0.234148  ...               0.236350 -0.576678   \n",
       "\n",
       "                          npxGA         npxGD  ppda_coef  oppda_coef  \\\n",
       "Year_Started           0.087815  0.000000e+00   0.345037    0.260640   \n",
       "Position               0.676718 -8.217152e-01   0.477974   -0.558568   \n",
       "Matches                0.451742 -2.885568e-18   0.020782    0.015699   \n",
       "Wins                  -0.522722  8.649720e-01  -0.451938    0.642113   \n",
       "Draws                  0.080713 -1.691746e-01   0.061143   -0.233454   \n",
       "Losses                 0.754244 -8.371860e-01   0.462716   -0.556268   \n",
       "Scored                -0.322772  8.258546e-01  -0.437775    0.630792   \n",
       "Missed                 0.863690 -6.993028e-01   0.376758   -0.443389   \n",
       "Points                -0.531994  8.742008e-01  -0.461438    0.630448   \n",
       "Expected_Goals        -0.250897  8.351306e-01  -0.432416    0.633282   \n",
       "xG_diff                0.298302 -3.592207e-01   0.211909   -0.283984   \n",
       "npxG                  -0.249380  8.406466e-01  -0.426920    0.641393   \n",
       "Expected_GoalsAgainst  0.988283 -7.382638e-01   0.405927   -0.446970   \n",
       "xGA_diff              -0.070145  1.646667e-01  -0.074468    0.141204   \n",
       "npxGA                  1.000000 -7.341133e-01   0.402576   -0.436486   \n",
       "npxGD                 -0.734113  1.000000e+00  -0.524490    0.693838   \n",
       "ppda_coef              0.402576 -5.244902e-01   1.000000   -0.233814   \n",
       "oppda_coef            -0.436486  6.938384e-01  -0.233814    1.000000   \n",
       "Deep                  -0.362049  7.918101e-01  -0.413578    0.711109   \n",
       "Deep_Allowed           0.791095 -7.058388e-01   0.569947   -0.459637   \n",
       "Expected_Points       -0.540036  9.376167e-01  -0.496289    0.656933   \n",
       "Xpts_Diff              0.243637 -3.061928e-01   0.159037   -0.256922   \n",
       "\n",
       "                           Deep  Deep_Allowed  Expected_Points  Xpts_Diff  \n",
       "Year_Started           0.089933      0.142871         0.005502   0.008257  \n",
       "Position              -0.614252      0.621703        -0.758929   0.646624  \n",
       "Matches                0.166982      0.265272         0.305660   0.004586  \n",
       "Wins                   0.739290     -0.547382         0.891562  -0.658613  \n",
       "Draws                 -0.204820      0.120261        -0.100008   0.231933  \n",
       "Losses                -0.596141      0.661962        -0.741887   0.585385  \n",
       "Scored                 0.797548     -0.422792         0.876481  -0.442893  \n",
       "Missed                -0.391654      0.675296        -0.548488   0.476424  \n",
       "Points                 0.736839     -0.550956         0.913841  -0.647938  \n",
       "Expected_Goals         0.835643     -0.381061         0.914043  -0.234148  \n",
       "xG_diff               -0.285969      0.281114        -0.323272   0.639632  \n",
       "npxG                   0.840487     -0.375676         0.906472  -0.242360  \n",
       "Expected_GoalsAgainst -0.380355      0.783724        -0.555736   0.236350  \n",
       "xGA_diff               0.149925     -0.035661         0.169764  -0.576678  \n",
       "npxGA                 -0.362049      0.791095        -0.540036   0.243637  \n",
       "npxGD                  0.791810     -0.705839         0.937617  -0.306193  \n",
       "ppda_coef             -0.413578      0.569947        -0.496289   0.159037  \n",
       "oppda_coef             0.711109     -0.459637         0.656933  -0.256922  \n",
       "Deep                   1.000000     -0.393007         0.802931  -0.234372  \n",
       "Deep_Allowed          -0.393007      1.000000        -0.582435   0.208897  \n",
       "Expected_Points        0.802931     -0.582435         1.000000  -0.282810  \n",
       "Xpts_Diff             -0.234372      0.208897        -0.282810   1.000000  \n",
       "\n",
       "[22 rows x 22 columns]"
      ]
     },
     "execution_count": 311,
     "metadata": {},
     "output_type": "execute_result"
    }
   ],
   "source": [
    "corr = fb_df.corr()\n",
    "corr"
   ]
  },
  {
   "cell_type": "code",
   "execution_count": 312,
   "metadata": {},
   "outputs": [
    {
     "data": {
      "text/plain": [
       "<matplotlib.axes._subplots.AxesSubplot at 0x1a206517b8>"
      ]
     },
     "execution_count": 312,
     "metadata": {},
     "output_type": "execute_result"
    },
    {
     "data": {
      "image/png": "[encoded data removed]",
      "text/plain": [
       "<Figure size 432x288 with 2 Axes>"
      ]
     },
     "metadata": {
      "needs_background": "light"
     },
     "output_type": "display_data"
    }
   ],
   "source": [
    "import seaborn as sns\n",
    "sns.heatmap(corr, \n",
    "            xticklabels=corr.columns.values,\n",
    "            yticklabels=corr.columns.values)"
   ]
  },
  {
   "cell_type": "markdown",
   "metadata": {},
   "source": [
    "The strongest relation for the Xpts_Diff column is the xGA_diff column. This is interesting to see I would like to further look into it."
   ]
  },
  {
   "cell_type": "code",
   "execution_count": 313,
   "metadata": {},
   "outputs": [],
   "source": [
    "testing_df = fb_df[[\"xGA_diff\", \"Xpts_Diff\"]]"
   ]
  },
  {
   "cell_type": "code",
   "execution_count": 314,
   "metadata": {},
   "outputs": [
    {
     "data": {
      "text/plain": [
       "<matplotlib.axes._subplots.AxesSubplot at 0x1a208a38d0>"
      ]
     },
     "execution_count": 314,
     "metadata": {},
     "output_type": "execute_result"
    },
    {
     "data": {
      "image/png": "[encoded data removed]",
      "text/plain": [
       "<Figure size 432x288 with 1 Axes>"
      ]
     },
     "metadata": {
      "needs_background": "light"
     },
     "output_type": "display_data"
    }
   ],
   "source": [
    "fb_df.xGA_diff.plot(kind='density')"
   ]
  },
  {
   "cell_type": "code",
   "execution_count": 315,
   "metadata": {},
   "outputs": [
    {
     "data": {
      "text/plain": [
       "<matplotlib.axes._subplots.AxesSubplot at 0x1a20a2a710>"
      ]
     },
     "execution_count": 315,
     "metadata": {},
     "output_type": "execute_result"
    },
    {
     "data": {
      "image/png": "[encoded data removed]",
      "text/plain": [
       "<Figure size 432x288 with 1 Axes>"
      ]
     },
     "metadata": {
      "needs_background": "light"
     },
     "output_type": "display_data"
    }
   ],
   "source": [
    "fb_df.Xpts_Diff.plot(kind='density')"
   ]
  },
  {
   "cell_type": "markdown",
   "metadata": {},
   "source": [
    "Since the data above seems pretty normally distributed, I want to take a look at boxplots for each column too get a better view of the distribution as well as outliers. "
   ]
  },
  {
   "cell_type": "markdown",
   "metadata": {},
   "source": [
    "#### Boxplot"
   ]
  },
  {
   "cell_type": "code",
   "execution_count": 316,
   "metadata": {
    "scrolled": true
   },
   "outputs": [
    {
     "data": {
      "text/plain": [
       "<matplotlib.axes._subplots.AxesSubplot at 0x1a208a3198>"
      ]
     },
     "execution_count": 316,
     "metadata": {},
     "output_type": "execute_result"
    },
    {
     "data": {
      "image/png": "[encoded data removed]",
      "text/plain": [
       "<Figure size 432x288 with 1 Axes>"
      ]
     },
     "metadata": {
      "needs_background": "light"
     },
     "output_type": "display_data"
    }
   ],
   "source": [
    "testing_df[[\"xGA_diff\"]].boxplot()"
   ]
  },
  {
   "cell_type": "code",
   "execution_count": 317,
   "metadata": {},
   "outputs": [
    {
     "data": {
      "text/plain": [
       "<matplotlib.axes._subplots.AxesSubplot at 0x1a20ae8438>"
      ]
     },
     "execution_count": 317,
     "metadata": {},
     "output_type": "execute_result"
    },
    {
     "data": {
      "image/png": "[encoded data removed]",
      "text/plain": [
       "<Figure size 432x288 with 1 Axes>"
      ]
     },
     "metadata": {
      "needs_background": "light"
     },
     "output_type": "display_data"
    }
   ],
   "source": [
    "testing_df[[\"Xpts_Diff\"]].boxplot()"
   ]
  },
  {
   "cell_type": "markdown",
   "metadata": {},
   "source": [
    "#### Probability Plot"
   ]
  },
  {
   "cell_type": "code",
   "execution_count": 318,
   "metadata": {},
   "outputs": [
    {
     "data": {
      "image/png": "[encoded data removed]",
      "text/plain": [
       "<Figure size 432x288 with 1 Axes>"
      ]
     },
     "metadata": {
      "needs_background": "light"
     },
     "output_type": "display_data"
    }
   ],
   "source": [
    "import scipy.stats as stats\n",
    "\n",
    "stats.probplot(fb_df.xGA_diff, dist=\"norm\", plot=plt)\n",
    "plt.show()"
   ]
  },
  {
   "cell_type": "code",
   "execution_count": 319,
   "metadata": {},
   "outputs": [
    {
     "data": {
      "image/png": "[encoded data removed]",
      "text/plain": [
       "<Figure size 432x288 with 1 Axes>"
      ]
     },
     "metadata": {
      "needs_background": "light"
     },
     "output_type": "display_data"
    }
   ],
   "source": [
    "import scipy.stats as stats\n",
    "\n",
    "stats.probplot(fb_df.Xpts_Diff, dist=\"norm\", plot=plt)\n",
    "plt.show()"
   ]
  },
  {
   "cell_type": "code",
   "execution_count": 347,
   "metadata": {},
   "outputs": [],
   "source": [
    "# just seeing a positively correlated relationship\n",
    "testing_df2 = fb_df[[\"Expected_Points\", \"Expected_Goals\"]]"
   ]
  },
  {
   "cell_type": "markdown",
   "metadata": {},
   "source": [
    "The probability plot further proves that the distribution is normal"
   ]
  },
  {
   "cell_type": "markdown",
   "metadata": {},
   "source": [
    "#### Correlation Scatter Plot"
   ]
  },
  {
   "cell_type": "code",
   "execution_count": 320,
   "metadata": {},
   "outputs": [
    {
     "data": {
      "text/plain": [
       "<matplotlib.collections.PathCollection at 0x1a20e9ea58>"
      ]
     },
     "execution_count": 320,
     "metadata": {},
     "output_type": "execute_result"
    },
    {
     "data": {
      "image/png": "[encoded data removed]",
      "text/plain": [
       "<Figure size 432x288 with 1 Axes>"
      ]
     },
     "metadata": {
      "needs_background": "light"
     },
     "output_type": "display_data"
    }
   ],
   "source": [
    "import matplotlib.pyplot as plt\n",
    "%matplotlib inline\n",
    "\n",
    "plt.scatter(fb_df.xGA_diff, fb_df.Xpts_Diff)"
   ]
  },
  {
   "cell_type": "code",
   "execution_count": 348,
   "metadata": {},
   "outputs": [
    {
     "data": {
      "text/plain": [
       "<matplotlib.collections.PathCollection at 0x1a215c3cc0>"
      ]
     },
     "execution_count": 348,
     "metadata": {},
     "output_type": "execute_result"
    },
    {
     "data": {
      "image/png": "[encoded data removed]",
      "text/plain": [
       "<Figure size 432x288 with 1 Axes>"
      ]
     },
     "metadata": {
      "needs_background": "light"
     },
     "output_type": "display_data"
    }
   ],
   "source": [
    "import matplotlib.pyplot as plt\n",
    "%matplotlib inline\n",
    "\n",
    "plt.scatter(fb_df.Expected_Points, fb_df.Expected_Goals)"
   ]
  },
  {
   "cell_type": "markdown",
   "metadata": {},
   "source": [
    "### Testsing for Normality"
   ]
  },
  {
   "cell_type": "markdown",
   "metadata": {},
   "source": [
    "#### Shapiro-Wilk"
   ]
  },
  {
   "cell_type": "code",
   "execution_count": 321,
   "metadata": {},
   "outputs": [
    {
     "name": "stdout",
     "output_type": "stream",
     "text": [
      "W-statistic= 0.9955883622169495, Pvalue= 0.10741623491048813\n",
      "Sample looks Gaussian (fail to reject H0)\n"
     ]
    }
   ],
   "source": [
    "from scipy.stats import shapiro\n",
    "W_stat, p = shapiro(testing_df.xGA_diff)\n",
    "print(\"W-statistic= {}, Pvalue= {}\".format(W_stat, p))\n",
    "alpha = 0.05\n",
    "if p > alpha:\n",
    "    print('Sample looks Gaussian (fail to reject H0)')\n",
    "else:\n",
    "    print('Sample does not look Gaussian (reject H0)')"
   ]
  },
  {
   "cell_type": "code",
   "execution_count": 322,
   "metadata": {},
   "outputs": [
    {
     "name": "stdout",
     "output_type": "stream",
     "text": [
      "W-statistic= 0.9979878067970276, Pvalue= 0.7446398138999939\n",
      "Sample looks Gaussian (fail to reject H0)\n"
     ]
    }
   ],
   "source": [
    "from scipy.stats import shapiro\n",
    "W_stat, p = shapiro(testing_df.Xpts_Diff)\n",
    "print(\"W-statistic= {}, Pvalue= {}\".format(W_stat, p))\n",
    "alpha = 0.05\n",
    "if p > alpha:\n",
    "    print('Sample looks Gaussian (fail to reject H0)')\n",
    "else:\n",
    "    print('Sample does not look Gaussian (reject H0)')"
   ]
  },
  {
   "cell_type": "markdown",
   "metadata": {},
   "source": [
    "#### D'agostino's K Squared"
   ]
  },
  {
   "cell_type": "code",
   "execution_count": 323,
   "metadata": {},
   "outputs": [
    {
     "name": "stdout",
     "output_type": "stream",
     "text": [
      "K^2 Stat= 2.8507720189335464, Pvalue= 0.2404156425806776\n",
      "Sample looks Gaussian (fail to reject H0)\n"
     ]
    }
   ],
   "source": [
    "from scipy.stats import normaltest\n",
    "k2_stat, p = normaltest(testing_df.xGA_diff)\n",
    "print('K^2 Stat= {}, Pvalue= {}'.format(k2_stat, p))\n",
    "alpha = 0.05\n",
    "if p > alpha:\n",
    "    print('Sample looks Gaussian (fail to reject H0)')\n",
    "else:\n",
    "    print('Sample does not look Gaussian (reject H0)')"
   ]
  },
  {
   "cell_type": "code",
   "execution_count": 324,
   "metadata": {},
   "outputs": [
    {
     "name": "stdout",
     "output_type": "stream",
     "text": [
      "K^2 Stat= 2.1609191255079514, Pvalue= 0.33943949604537826\n",
      "Sample looks Gaussian (fail to reject H0)\n"
     ]
    }
   ],
   "source": [
    "from scipy.stats import normaltest\n",
    "k2_stat, p = normaltest(testing_df.Xpts_Diff)\n",
    "print('K^2 Stat= {}, Pvalue= {}'.format(k2_stat, p))\n",
    "alpha = 0.05\n",
    "if p > alpha:\n",
    "    print('Sample looks Gaussian (fail to reject H0)')\n",
    "else:\n",
    "    print('Sample does not look Gaussian (reject H0)')"
   ]
  },
  {
   "cell_type": "markdown",
   "metadata": {},
   "source": [
    "#### Anderson-Darling"
   ]
  },
  {
   "cell_type": "code",
   "execution_count": 325,
   "metadata": {},
   "outputs": [
    {
     "name": "stdout",
     "output_type": "stream",
     "text": [
      "Test Statistic: 0.493249830780087\n",
      "Significance: 15.0 \n",
      " Pval cutoff: 0.572 - Data looks normal (fail to reject H0)\n",
      "Significance: 10.0 \n",
      " Pval cutoff: 0.651 - Data looks normal (fail to reject H0)\n",
      "Significance: 5.0 \n",
      " Pval cutoff: 0.782 - Data looks normal (fail to reject H0)\n",
      "Significance: 2.5 \n",
      " Pval cutoff: 0.912 - Data looks normal (fail to reject H0)\n",
      "Significance: 1.0 \n",
      " Pval cutoff: 1.084 - Data looks normal (fail to reject H0)\n"
     ]
    }
   ],
   "source": [
    "from scipy.stats import anderson\n",
    "\n",
    "result = anderson(testing_df.xGA_diff)\n",
    "\n",
    "print('Test Statistic: {}'.format(result.statistic))\n",
    "\n",
    "p = 0\n",
    "for i in range(len(result.critical_values)):\n",
    "    sl, cv = result.significance_level[i], result.critical_values[i]\n",
    "    if result.statistic < result.critical_values[i]:\n",
    "        print('Significance: {} \\n Pval cutoff: {} - Data looks normal (fail to reject H0)'.format(sl, cv))\n",
    "    else:\n",
    "        print('Significance: {} \\n Pval cutoff: {} - Data does not look normal (reject H0)'.format(sl, cv))"
   ]
  },
  {
   "cell_type": "code",
   "execution_count": 326,
   "metadata": {},
   "outputs": [
    {
     "name": "stdout",
     "output_type": "stream",
     "text": [
      "Test Statistic: 0.21348235640027724\n",
      "Significance: 15.0 \n",
      " Pval cutoff: 0.572 - Data looks normal (fail to reject H0)\n",
      "Significance: 10.0 \n",
      " Pval cutoff: 0.651 - Data looks normal (fail to reject H0)\n",
      "Significance: 5.0 \n",
      " Pval cutoff: 0.782 - Data looks normal (fail to reject H0)\n",
      "Significance: 2.5 \n",
      " Pval cutoff: 0.912 - Data looks normal (fail to reject H0)\n",
      "Significance: 1.0 \n",
      " Pval cutoff: 1.084 - Data looks normal (fail to reject H0)\n"
     ]
    }
   ],
   "source": [
    "from scipy.stats import anderson\n",
    "\n",
    "result = anderson(testing_df.Xpts_Diff)\n",
    "\n",
    "print('Test Statistic: {}'.format(result.statistic))\n",
    "\n",
    "p = 0\n",
    "for i in range(len(result.critical_values)):\n",
    "    sl, cv = result.significance_level[i], result.critical_values[i]\n",
    "    if result.statistic < result.critical_values[i]:\n",
    "        print('Significance: {} \\n Pval cutoff: {} - Data looks normal (fail to reject H0)'.format(sl, cv))\n",
    "    else:\n",
    "        print('Significance: {} \\n Pval cutoff: {} - Data does not look normal (reject H0)'.format(sl, cv))"
   ]
  },
  {
   "cell_type": "markdown",
   "metadata": {},
   "source": [
    "#### Outliers"
   ]
  },
  {
   "cell_type": "markdown",
   "metadata": {},
   "source": [
    "Since both the columns are normally distributed, and the box plots have a few outliers I am going to leave them in since it does not affect data.\n",
    "But I will still check to see the outliers below:"
   ]
  },
  {
   "cell_type": "code",
   "execution_count": 327,
   "metadata": {},
   "outputs": [],
   "source": [
    "from scipy.stats import zscore\n",
    "fb_df[\"xGA_diff_Z\"] = zscore(fb_df.xGA_diff)"
   ]
  },
  {
   "cell_type": "code",
   "execution_count": 328,
   "metadata": {},
   "outputs": [
    {
     "data": {
      "text/plain": [
       "5"
      ]
     },
     "execution_count": 328,
     "metadata": {},
     "output_type": "execute_result"
    }
   ],
   "source": [
    "len(fb_df[abs(fb_df.xGA_diff_Z) > 2.5])"
   ]
  },
  {
   "cell_type": "code",
   "execution_count": 329,
   "metadata": {},
   "outputs": [],
   "source": [
    "from scipy.stats import zscore\n",
    "fb_df[\"Xpts_Diff_Z\"] = zscore(fb_df.Xpts_Diff)"
   ]
  },
  {
   "cell_type": "code",
   "execution_count": 330,
   "metadata": {},
   "outputs": [
    {
     "data": {
      "text/plain": [
       "10"
      ]
     },
     "execution_count": 330,
     "metadata": {},
     "output_type": "execute_result"
    }
   ],
   "source": [
    "len(fb_df[abs(fb_df.Xpts_Diff_Z) > 2.5])"
   ]
  },
  {
   "cell_type": "markdown",
   "metadata": {},
   "source": [
    "## Linear Regression "
   ]
  },
  {
   "cell_type": "code",
   "execution_count": 331,
   "metadata": {},
   "outputs": [
    {
     "data": {
      "text/html": [
       "<div>\n",
       "<style scoped>\n",
       "    .dataframe tbody tr th:only-of-type {\n",
       "        vertical-align: middle;\n",
       "    }\n",
       "\n",
       "    .dataframe tbody tr th {\n",
       "        vertical-align: top;\n",
       "    }\n",
       "\n",
       "    .dataframe thead th {\n",
       "        text-align: right;\n",
       "    }\n",
       "</style>\n",
       "<table border=\"1\" class=\"dataframe\">\n",
       "  <thead>\n",
       "    <tr style=\"text-align: right;\">\n",
       "      <th></th>\n",
       "      <th>xGA_diff</th>\n",
       "      <th>Xpts_Diff</th>\n",
       "    </tr>\n",
       "  </thead>\n",
       "  <tbody>\n",
       "    <tr>\n",
       "      <th>xGA_diff</th>\n",
       "      <td>1.000000</td>\n",
       "      <td>-0.576678</td>\n",
       "    </tr>\n",
       "    <tr>\n",
       "      <th>Xpts_Diff</th>\n",
       "      <td>-0.576678</td>\n",
       "      <td>1.000000</td>\n",
       "    </tr>\n",
       "  </tbody>\n",
       "</table>\n",
       "</div>"
      ],
      "text/plain": [
       "           xGA_diff  Xpts_Diff\n",
       "xGA_diff   1.000000  -0.576678\n",
       "Xpts_Diff -0.576678   1.000000"
      ]
     },
     "execution_count": 331,
     "metadata": {},
     "output_type": "execute_result"
    }
   ],
   "source": [
    "r_sq = fb_df[[\"xGA_diff\", \"Xpts_Diff\"]].corr() \n",
    "r_sq"
   ]
  },
  {
   "cell_type": "code",
   "execution_count": 332,
   "metadata": {},
   "outputs": [],
   "source": [
    "B1 = -0.576678 * (np.std(fb_df.xGA_diff)/np.std(fb_df.Xpts_Diff))"
   ]
  },
  {
   "cell_type": "code",
   "execution_count": 333,
   "metadata": {},
   "outputs": [
    {
     "name": "stdout",
     "output_type": "stream",
     "text": [
      "For 1 unit of change in X, we can predict -0.5330679061941141 units of change in Y\n"
     ]
    }
   ],
   "source": [
    "print(\"For 1 unit of change in X, we can predict {} units of change in Y\".format(B1))"
   ]
  },
  {
   "cell_type": "code",
   "execution_count": 334,
   "metadata": {},
   "outputs": [
    {
     "data": {
      "text/plain": [
       "-1.3414612248197755"
      ]
     },
     "execution_count": 334,
     "metadata": {},
     "output_type": "execute_result"
    }
   ],
   "source": [
    "B0 = fb_df.xGA_diff.mean() - (B1 * fb_df.Xpts_Diff.mean())\n",
    "B0"
   ]
  },
  {
   "cell_type": "code",
   "execution_count": 337,
   "metadata": {},
   "outputs": [],
   "source": [
    "fb_df[\"y_line\"] = B0 + (B1 * fb_df.Xpts_Diff)"
   ]
  },
  {
   "cell_type": "code",
   "execution_count": 338,
   "metadata": {},
   "outputs": [
    {
     "data": {
      "text/html": [
       "<div>\n",
       "<style scoped>\n",
       "    .dataframe tbody tr th:only-of-type {\n",
       "        vertical-align: middle;\n",
       "    }\n",
       "\n",
       "    .dataframe tbody tr th {\n",
       "        vertical-align: top;\n",
       "    }\n",
       "\n",
       "    .dataframe thead th {\n",
       "        text-align: right;\n",
       "    }\n",
       "</style>\n",
       "<table border=\"1\" class=\"dataframe\">\n",
       "  <thead>\n",
       "    <tr style=\"text-align: right;\">\n",
       "      <th></th>\n",
       "      <th>League_Name</th>\n",
       "      <th>Year_Started</th>\n",
       "      <th>Position</th>\n",
       "      <th>Team_Name</th>\n",
       "      <th>Matches</th>\n",
       "      <th>Wins</th>\n",
       "      <th>Draws</th>\n",
       "      <th>Losses</th>\n",
       "      <th>Scored</th>\n",
       "      <th>Missed</th>\n",
       "      <th>...</th>\n",
       "      <th>npxGD</th>\n",
       "      <th>ppda_coef</th>\n",
       "      <th>oppda_coef</th>\n",
       "      <th>Deep</th>\n",
       "      <th>Deep_Allowed</th>\n",
       "      <th>Expected_Points</th>\n",
       "      <th>Xpts_Diff</th>\n",
       "      <th>xGA_diff_Z</th>\n",
       "      <th>Xpts_Diff_Z</th>\n",
       "      <th>y_line</th>\n",
       "    </tr>\n",
       "  </thead>\n",
       "  <tbody>\n",
       "    <tr>\n",
       "      <th>0</th>\n",
       "      <td>Bundesliga</td>\n",
       "      <td>2014</td>\n",
       "      <td>1</td>\n",
       "      <td>Bayern Munich</td>\n",
       "      <td>34</td>\n",
       "      <td>25</td>\n",
       "      <td>4</td>\n",
       "      <td>5</td>\n",
       "      <td>80</td>\n",
       "      <td>18</td>\n",
       "      <td>...</td>\n",
       "      <td>41.236085</td>\n",
       "      <td>5.761476</td>\n",
       "      <td>25.022717</td>\n",
       "      <td>388</td>\n",
       "      <td>83</td>\n",
       "      <td>73.6116</td>\n",
       "      <td>-5.3884</td>\n",
       "      <td>0.804977</td>\n",
       "      <td>-0.769618</td>\n",
       "      <td>1.530922</td>\n",
       "    </tr>\n",
       "    <tr>\n",
       "      <th>1</th>\n",
       "      <td>Bundesliga</td>\n",
       "      <td>2014</td>\n",
       "      <td>2</td>\n",
       "      <td>Wolfsburg</td>\n",
       "      <td>34</td>\n",
       "      <td>20</td>\n",
       "      <td>9</td>\n",
       "      <td>5</td>\n",
       "      <td>72</td>\n",
       "      <td>38</td>\n",
       "      <td>...</td>\n",
       "      <td>18.897371</td>\n",
       "      <td>9.136319</td>\n",
       "      <td>10.289876</td>\n",
       "      <td>172</td>\n",
       "      <td>164</td>\n",
       "      <td>59.9509</td>\n",
       "      <td>-9.0491</td>\n",
       "      <td>0.337491</td>\n",
       "      <td>-1.277176</td>\n",
       "      <td>3.482324</td>\n",
       "    </tr>\n",
       "    <tr>\n",
       "      <th>2</th>\n",
       "      <td>Bundesliga</td>\n",
       "      <td>2014</td>\n",
       "      <td>3</td>\n",
       "      <td>Borussia M.Gladbach</td>\n",
       "      <td>34</td>\n",
       "      <td>19</td>\n",
       "      <td>9</td>\n",
       "      <td>6</td>\n",
       "      <td>53</td>\n",
       "      <td>26</td>\n",
       "      <td>...</td>\n",
       "      <td>16.156039</td>\n",
       "      <td>12.751108</td>\n",
       "      <td>12.783803</td>\n",
       "      <td>221</td>\n",
       "      <td>198</td>\n",
       "      <td>57.0078</td>\n",
       "      <td>-8.9922</td>\n",
       "      <td>1.765621</td>\n",
       "      <td>-1.269287</td>\n",
       "      <td>3.451992</td>\n",
       "    </tr>\n",
       "    <tr>\n",
       "      <th>3</th>\n",
       "      <td>Bundesliga</td>\n",
       "      <td>2014</td>\n",
       "      <td>4</td>\n",
       "      <td>Bayer Leverkusen</td>\n",
       "      <td>34</td>\n",
       "      <td>17</td>\n",
       "      <td>10</td>\n",
       "      <td>7</td>\n",
       "      <td>62</td>\n",
       "      <td>37</td>\n",
       "      <td>...</td>\n",
       "      <td>18.224194</td>\n",
       "      <td>5.693289</td>\n",
       "      <td>7.347595</td>\n",
       "      <td>246</td>\n",
       "      <td>108</td>\n",
       "      <td>55.3396</td>\n",
       "      <td>-5.6604</td>\n",
       "      <td>-0.127734</td>\n",
       "      <td>-0.807331</td>\n",
       "      <td>1.675916</td>\n",
       "    </tr>\n",
       "    <tr>\n",
       "      <th>4</th>\n",
       "      <td>Bundesliga</td>\n",
       "      <td>2014</td>\n",
       "      <td>5</td>\n",
       "      <td>Augsburg</td>\n",
       "      <td>34</td>\n",
       "      <td>15</td>\n",
       "      <td>4</td>\n",
       "      <td>15</td>\n",
       "      <td>43</td>\n",
       "      <td>43</td>\n",
       "      <td>...</td>\n",
       "      <td>-5.908343</td>\n",
       "      <td>7.625900</td>\n",
       "      <td>10.402360</td>\n",
       "      <td>134</td>\n",
       "      <td>221</td>\n",
       "      <td>45.4960</td>\n",
       "      <td>-3.5040</td>\n",
       "      <td>0.763111</td>\n",
       "      <td>-0.508345</td>\n",
       "      <td>0.526409</td>\n",
       "    </tr>\n",
       "  </tbody>\n",
       "</table>\n",
       "<p>5 rows × 27 columns</p>\n",
       "</div>"
      ],
      "text/plain": [
       "  League_Name  Year_Started  Position            Team_Name  Matches  Wins  \\\n",
       "0  Bundesliga          2014         1        Bayern Munich       34    25   \n",
       "1  Bundesliga          2014         2            Wolfsburg       34    20   \n",
       "2  Bundesliga          2014         3  Borussia M.Gladbach       34    19   \n",
       "3  Bundesliga          2014         4     Bayer Leverkusen       34    17   \n",
       "4  Bundesliga          2014         5             Augsburg       34    15   \n",
       "\n",
       "   Draws  Losses  Scored  Missed  ...      npxGD  ppda_coef  oppda_coef  Deep  \\\n",
       "0      4       5      80      18  ...  41.236085   5.761476   25.022717   388   \n",
       "1      9       5      72      38  ...  18.897371   9.136319   10.289876   172   \n",
       "2      9       6      53      26  ...  16.156039  12.751108   12.783803   221   \n",
       "3     10       7      62      37  ...  18.224194   5.693289    7.347595   246   \n",
       "4      4      15      43      43  ...  -5.908343   7.625900   10.402360   134   \n",
       "\n",
       "   Deep_Allowed  Expected_Points  Xpts_Diff  xGA_diff_Z  Xpts_Diff_Z    y_line  \n",
       "0            83          73.6116    -5.3884    0.804977    -0.769618  1.530922  \n",
       "1           164          59.9509    -9.0491    0.337491    -1.277176  3.482324  \n",
       "2           198          57.0078    -8.9922    1.765621    -1.269287  3.451992  \n",
       "3           108          55.3396    -5.6604   -0.127734    -0.807331  1.675916  \n",
       "4           221          45.4960    -3.5040    0.763111    -0.508345  0.526409  \n",
       "\n",
       "[5 rows x 27 columns]"
      ]
     },
     "execution_count": 338,
     "metadata": {},
     "output_type": "execute_result"
    }
   ],
   "source": [
    "fb_df.head()"
   ]
  },
  {
   "cell_type": "code",
   "execution_count": 339,
   "metadata": {},
   "outputs": [
    {
     "data": {
      "text/plain": [
       "Text(0.5, 0, 'Independent Variable')"
      ]
     },
     "execution_count": 339,
     "metadata": {},
     "output_type": "execute_result"
    },
    {
     "data": {
      "image/png": "[encoded data removed]",
      "text/plain": [
       "<Figure size 432x288 with 1 Axes>"
      ]
     },
     "metadata": {
      "needs_background": "light"
     },
     "output_type": "display_data"
    }
   ],
   "source": [
    "plt.scatter(fb_df.Xpts_Diff,fb_df.xGA_diff) \n",
    "plt.plot(fb_df.Xpts_Diff, fb_df.y_line)\n",
    "plt.ylabel(\"Dependent Variable\")\n",
    "plt.xlabel(\"Independent Variable\")"
   ]
  },
  {
   "cell_type": "markdown",
   "metadata": {},
   "source": [
    "## Conclusion "
   ]
  },
  {
   "cell_type": "markdown",
   "metadata": {},
   "source": [
    "Going into this I focused on the column \"Xpts_Diff\" because it contained all the data points for the difference between actual scored points and the expected scored points. Predicted scores in sports are made all the time and the stats are based on the previous scores or how the league generally performs. So in this conclusion I hope to convey all the observations I drew regarding this."
   ]
  },
  {
   "cell_type": "markdown",
   "metadata": {},
   "source": [
    "#### First I would like to talk about the density charts for all the numerical values:"
   ]
  },
  {
   "cell_type": "code",
   "execution_count": 341,
   "metadata": {},
   "outputs": [
    {
     "data": {
      "text/plain": [
       "<matplotlib.axes._subplots.AxesSubplot at 0x1a20fead30>"
      ]
     },
     "execution_count": 341,
     "metadata": {},
     "output_type": "execute_result"
    },
    {
     "data": {
      "image/png": "[encoded data removed]",
      "text/plain": [
       "<Figure size 432x288 with 1 Axes>"
      ]
     },
     "metadata": {
      "needs_background": "light"
     },
     "output_type": "display_data"
    }
   ],
   "source": [
    "fb_df.npxGD.plot('density')"
   ]
  },
  {
   "cell_type": "markdown",
   "metadata": {},
   "source": [
    "Even though all the values had a bell curve, they did not all peak at \"0\". I think the reason for the bell curve being skewed is because most teams have a certain range of wins, and losses in order to end up in the \"poisition\" or rank they did. Some columns did center around the zero value such as the npxGD plot above. The bell curves that showed the same resemblence were examining differences between pre-season predicted values vs what actually scored. This point is interesting to note because the same happens for all sports"
   ]
  },
  {
   "cell_type": "code",
   "execution_count": 343,
   "metadata": {},
   "outputs": [
    {
     "data": {
      "text/plain": [
       "<matplotlib.axes._subplots.AxesSubplot at 0x1a2118d7f0>"
      ]
     },
     "execution_count": 343,
     "metadata": {},
     "output_type": "execute_result"
    },
    {
     "data": {
      "image/png": "[encoded data removed]",
      "text/plain": [
       "<Figure size 432x288 with 2 Axes>"
      ]
     },
     "metadata": {
      "needs_background": "light"
     },
     "output_type": "display_data"
    }
   ],
   "source": [
    "import seaborn as sns\n",
    "sns.heatmap(corr, \n",
    "            xticklabels=corr.columns.values,\n",
    "            yticklabels=corr.columns.values)"
   ]
  },
  {
   "cell_type": "markdown",
   "metadata": {},
   "source": [
    "#### Correlation Map \n",
    "As I was looking at the correlation map and comparing the relation between different columns to Xpts_Diff, I was intrigued by several relations. The first being xGA_diff, and the second being the wins column.\n",
    "The relation between Wins and Xpts_Diff has a high negative correlation. \n",
    "The relationship between xGA_diff (difference between missed goals and difference between expected goals) and Xpts_Diff also has a negative correlation (-0.576678). "
   ]
  },
  {
   "cell_type": "markdown",
   "metadata": {},
   "source": [
    "So what causes the inverse relationship between xGA_diff and Xpts_Diff?\n",
    "If a team misses more points (the difference of actual missed vs expected missed = xGA_diff), then it would score less decreasing Xpts_Diff(difference between actual points vs expected points).\n",
    "This like any other inverse relationship menas that when xGA_diff increases, Xpts_Diff decreases, and vice versa."
   ]
  },
  {
   "cell_type": "markdown",
   "metadata": {},
   "source": [
    "#### This inverse relationship can be explained by this correlation plot:"
   ]
  },
  {
   "cell_type": "code",
   "execution_count": 344,
   "metadata": {},
   "outputs": [
    {
     "data": {
      "text/plain": [
       "<matplotlib.collections.PathCollection at 0x1a2136c470>"
      ]
     },
     "execution_count": 344,
     "metadata": {},
     "output_type": "execute_result"
    },
    {
     "data": {
      "image/png": "[encoded data removed]",
      "text/plain": [
       "<Figure size 432x288 with 1 Axes>"
      ]
     },
     "metadata": {
      "needs_background": "light"
     },
     "output_type": "display_data"
    }
   ],
   "source": [
    "import matplotlib.pyplot as plt\n",
    "%matplotlib inline\n",
    "\n",
    "plt.scatter(fb_df.xGA_diff, fb_df.Xpts_Diff)"
   ]
  },
  {
   "cell_type": "markdown",
   "metadata": {},
   "source": [
    "Since most of the points are clustered around a hypothetical line, while others spread around it, we can conclude that this relationship is infact moderaltey negative"
   ]
  },
  {
   "cell_type": "markdown",
   "metadata": {},
   "source": [
    "#### Examining Normality with Tests:"
   ]
  },
  {
   "cell_type": "markdown",
   "metadata": {},
   "source": [
    "The first test I used was the Shapiro-Wilk test. The data sets xGA_diff and Xpts_Diff had p-values of 0.10741623491048813 and 0.7446398138999939. Since both these p-values were greater than 0.05 we have concluded that the data is normally distributed."
   ]
  },
  {
   "cell_type": "markdown",
   "metadata": {},
   "source": [
    "The D'agostino's K Squared examines distribution for skewness to determine if it departs from normal distribution. Even though the p-values were < 0.05, both of the data is highly positively skewed:\n",
    "xGA_diff K^2 Stat= 2.8507720189335464\n",
    "Xpts_Diff K^2 Stat= 2.1609191255079514\n",
    "This indicates that the data is high Kurtosis, meaning it has heavy tails. \n",
    "So this brings the question -- How do football stastics compare to other data sets that are normally distributed?\n",
    "In datasets such as income or age etc, it is possible to have just as many low values that include zero as well as high values. In sports, depending on the sport, data generally skews either really high or really low (to the left). For example in a low scoring game like soccer, it might have  alot of data points on the left tail end vs in basketball where it might have more points towards the right tail end"
   ]
  },
  {
   "cell_type": "markdown",
   "metadata": {},
   "source": [
    "#### Linear Regression"
   ]
  },
  {
   "cell_type": "code",
   "execution_count": 345,
   "metadata": {},
   "outputs": [
    {
     "data": {
      "text/plain": [
       "Text(0.5, 0, 'Independent Variable')"
      ]
     },
     "execution_count": 345,
     "metadata": {},
     "output_type": "execute_result"
    },
    {
     "data": {
      "image/png": "[encoded data removed]",
      "text/plain": [
       "<Figure size 432x288 with 1 Axes>"
      ]
     },
     "metadata": {
      "needs_background": "light"
     },
     "output_type": "display_data"
    }
   ],
   "source": [
    "plt.scatter(fb_df.Xpts_Diff,fb_df.xGA_diff) \n",
    "plt.plot(fb_df.Xpts_Diff, fb_df.y_line)\n",
    "plt.ylabel(\"Dependent Variable\")\n",
    "plt.xlabel(\"Independent Variable\")"
   ]
  },
  {
   "cell_type": "markdown",
   "metadata": {},
   "source": [
    "The linear regression line proves the theory above of an inverse relationship"
   ]
  },
  {
   "cell_type": "markdown",
   "metadata": {},
   "source": [
    "#### Plotting a positvely related table to draw conclusions:"
   ]
  },
  {
   "cell_type": "code",
   "execution_count": 349,
   "metadata": {},
   "outputs": [
    {
     "data": {
      "text/plain": [
       "<matplotlib.collections.PathCollection at 0x1a216c2ef0>"
      ]
     },
     "execution_count": 349,
     "metadata": {},
     "output_type": "execute_result"
    },
    {
     "data": {
      "image/png": "[encoded data removed]",
      "text/plain": [
       "<Figure size 432x288 with 1 Axes>"
      ]
     },
     "metadata": {
      "needs_background": "light"
     },
     "output_type": "display_data"
    }
   ],
   "source": [
    "import matplotlib.pyplot as plt\n",
    "%matplotlib inline\n",
    "\n",
    "plt.scatter(fb_df.Expected_Points, fb_df.Expected_Goals)"
   ]
  },
  {
   "cell_type": "markdown",
   "metadata": {},
   "source": [
    "I chose these two particular columns just to answer my question : as expected goals go up do points scored?\n",
    "This shows a strong linear relationship meaning there is a direct relationship between amount of points scored and goals. When one variable increases, so does the other."
   ]
  }
 ],
 "metadata": {
  "kernelspec": {
   "display_name": "Python 3",
   "language": "python",
   "name": "python3"
  },
  "language_info": {
   "codemirror_mode": {
    "name": "ipython",
    "version": 3
   },
   "file_extension": ".py",
   "mimetype": "text/x-python",
   "name": "python",
   "nbconvert_exporter": "python",
   "pygments_lexer": "ipython3",
   "version": "3.7.3"
  }
 },
 "nbformat": 4,
 "nbformat_minor": 2
}
